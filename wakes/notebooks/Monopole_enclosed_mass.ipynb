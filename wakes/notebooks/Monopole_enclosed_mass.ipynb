{
 "cells": [
  {
   "cell_type": "code",
   "execution_count": 2,
   "id": "1581d17c-fd9f-4254-8903-bc3a50a05c23",
   "metadata": {
    "execution": {
     "iopub.execute_input": "2024-12-31T00:24:45.286362Z",
     "iopub.status.busy": "2024-12-31T00:24:45.285094Z",
     "iopub.status.idle": "2024-12-31T00:24:45.996517Z",
     "shell.execute_reply": "2024-12-31T00:24:45.995896Z",
     "shell.execute_reply.started": "2024-12-31T00:24:45.286309Z"
    }
   },
   "outputs": [
    {
     "name": "stdout",
     "output_type": "stream",
     "text": [
      "%pylab is deprecated, use %matplotlib inline and import the required libraries.\n",
      "Populating the interactive namespace from numpy and matplotlib\n"
     ]
    },
    {
     "name": "stderr",
     "output_type": "stream",
     "text": [
      "/home/ngc/.local/lib/python3.10/site-packages/matplotlib/projections/__init__.py:63: UserWarning: Unable to import Axes3D. This may be due to multiple versions of Matplotlib being installed (e.g. as a system package and as a pip package). As a result, the 3D projection is not available.\n",
      "  warnings.warn(\"Unable to import Axes3D. This may be due to multiple versions of \"\n"
     ]
    }
   ],
   "source": [
    "%pylab inline\n",
    "import matplotlib.pyplot as plt\n",
    "import numpy as np\n",
    "import pickle\n",
    "import scipy\n",
    "plt.style.use('./../../../MW_viz/matplotlib.mplstyle')\n",
    "\n",
    "from mpl_toolkits.axes_grid1 import make_axes_locatable\n",
    "from scipy.linalg import norm"
   ]
  },
  {
   "cell_type": "code",
   "execution_count": 3,
   "id": "5872ee87-f73c-4e60-a8fa-fc8778e0688a",
   "metadata": {
    "execution": {
     "iopub.execute_input": "2024-12-31T00:24:45.997913Z",
     "iopub.status.busy": "2024-12-31T00:24:45.997559Z",
     "iopub.status.idle": "2024-12-31T00:24:46.001778Z",
     "shell.execute_reply": "2024-12-31T00:24:46.000939Z",
     "shell.execute_reply.started": "2024-12-31T00:24:45.997889Z"
    }
   },
   "outputs": [],
   "source": [
    "with open('../../data/NICO_PICKLE/coeffs_0_dict.pickle', 'rb') as f:\n",
    "    coeffs_0_dict = pickle.load(f)"
   ]
  },
  {
   "cell_type": "code",
   "execution_count": 4,
   "id": "a26a8230-4939-4af2-8315-a606cc18627c",
   "metadata": {
    "execution": {
     "iopub.execute_input": "2024-12-31T00:24:46.002803Z",
     "iopub.status.busy": "2024-12-31T00:24:46.002553Z",
     "iopub.status.idle": "2024-12-31T00:24:46.006853Z",
     "shell.execute_reply": "2024-12-31T00:24:46.006047Z",
     "shell.execute_reply.started": "2024-12-31T00:24:46.002784Z"
    }
   },
   "outputs": [],
   "source": [
    "def load_profiles(halo):\n",
    "    Rall = np.loadtxt('../scripts/bins_profiles_{}.txt'.format(halo))\n",
    "    Dall = np.loadtxt('../scripts/denstiy_profiles_{}.txt'.format(halo))\n",
    "    Pall = np.loadtxt('../scripts/potential_profiles_{}.txt'.format(halo))\n",
    "    Mall = np.loadtxt('../scripts/mass_profiles_{}.txt'.format(halo))\n",
    "    return Rall, Dall, Pall, Mall    "
   ]
  },
  {
   "cell_type": "code",
   "execution_count": 5,
   "id": "748a5e86-ed6b-40d0-8b0d-185f140c7fef",
   "metadata": {
    "execution": {
     "iopub.execute_input": "2024-12-31T00:24:46.008506Z",
     "iopub.status.busy": "2024-12-31T00:24:46.008167Z",
     "iopub.status.idle": "2024-12-31T00:24:46.012061Z",
     "shell.execute_reply": "2024-12-31T00:24:46.011251Z",
     "shell.execute_reply.started": "2024-12-31T00:24:46.008481Z"
    }
   },
   "outputs": [],
   "source": [
    "with open('../../data/NICO_PICKLE/times.pickle', 'rb') as f:\n",
    "    times =  pickle.load(f)\n",
    "halos = list(times.keys())"
   ]
  },
  {
   "cell_type": "code",
   "execution_count": 6,
   "id": "f41e603c-52bb-47c3-b208-7d11001b5dc9",
   "metadata": {
    "execution": {
     "iopub.execute_input": "2024-12-31T00:24:46.034193Z",
     "iopub.status.busy": "2024-12-31T00:24:46.033855Z",
     "iopub.status.idle": "2024-12-31T00:24:46.039179Z",
     "shell.execute_reply": "2024-12-31T00:24:46.038412Z",
     "shell.execute_reply.started": "2024-12-31T00:24:46.034172Z"
    }
   },
   "outputs": [
    {
     "data": {
      "text/plain": [
       "['Halo004',\n",
       " 'Halo113',\n",
       " 'Halo169',\n",
       " 'Halo170',\n",
       " 'Halo222',\n",
       " 'Halo229',\n",
       " 'Halo282',\n",
       " 'Halo327',\n",
       " 'Halo349',\n",
       " 'Halo407',\n",
       " 'Halo659',\n",
       " 'Halo666',\n",
       " 'Halo719',\n",
       " 'Halo747',\n",
       " 'Halo756',\n",
       " 'Halo788',\n",
       " 'Halo975',\n",
       " 'Halo983']"
      ]
     },
     "execution_count": 6,
     "metadata": {},
     "output_type": "execute_result"
    }
   ],
   "source": [
    "halos"
   ]
  },
  {
   "cell_type": "code",
   "execution_count": 7,
   "id": "ed661e55-d2fa-4f02-9c61-dad79a5f87c0",
   "metadata": {
    "execution": {
     "iopub.execute_input": "2024-12-31T00:24:47.024495Z",
     "iopub.status.busy": "2024-12-31T00:24:47.023826Z",
     "iopub.status.idle": "2024-12-31T00:24:47.033322Z",
     "shell.execute_reply": "2024-12-31T00:24:47.031277Z",
     "shell.execute_reply.started": "2024-12-31T00:24:47.024449Z"
    }
   },
   "outputs": [],
   "source": [
    "def enclosed_mass(halo, snap):\n",
    "    DATAPATH = \"../../data/\"\n",
    "    halo = np.load(DATAPATH + \"{}/{}_{:03d}.npy\".format(halo, halo, snap))\n",
    "    h = {'position': halo['x'], 'velocity': halo['v']}\n",
    "    mp = 402830.0 # Msun \n",
    "    Menc = len(np.where(norm(h['position'], axis=1) < 150)[0] )\n",
    "    return Menc*mp"
   ]
  },
  {
   "cell_type": "code",
   "execution_count": 8,
   "id": "d7fdd3b6-18d2-4040-bda5-469366c1b87e",
   "metadata": {
    "execution": {
     "iopub.execute_input": "2024-12-31T00:24:47.782884Z",
     "iopub.status.busy": "2024-12-31T00:24:47.782076Z",
     "iopub.status.idle": "2024-12-31T00:24:47.793870Z",
     "shell.execute_reply": "2024-12-31T00:24:47.792524Z",
     "shell.execute_reply.started": "2024-12-31T00:24:47.782803Z"
    }
   },
   "outputs": [],
   "source": [
    "halos_init_snap = {'Halo004':243-25 , 'Halo113':243-26 , 'Halo169':243-31 , 'Halo170':243-28 , 'Halo222':243-24, 'Halo229':240-81, \n",
    "                    'Halo282':243-23 , 'Halo327':243-33,  'Halo349':243-36, 'Halo407':243-25, 'Halo659':243-74, 'Halo666':243-27,\n",
    "                    'Halo719':243-25, 'Halo747':243-27, 'Halo756':243-27, 'Halo788':235-19, 'Halo975':235-18, 'Halo983':235-18 }"
   ]
  },
  {
   "cell_type": "code",
   "execution_count": 19,
   "id": "39e8c2d0-f9e8-4bd2-ba7b-f3ec4853741a",
   "metadata": {
    "execution": {
     "iopub.execute_input": "2024-12-31T00:28:20.006023Z",
     "iopub.status.busy": "2024-12-31T00:28:20.005244Z",
     "iopub.status.idle": "2024-12-31T00:29:01.426721Z",
     "shell.execute_reply": "2024-12-31T00:29:01.426061Z",
     "shell.execute_reply.started": "2024-12-31T00:28:20.005971Z"
    }
   },
   "outputs": [
    {
     "name": "stdout",
     "output_type": "stream",
     "text": [
      "Halo004\n",
      "26 26\n",
      "Halo113\n",
      "27 27\n",
      "Halo169\n",
      "32 32\n",
      "Halo170\n",
      "29 29\n",
      "Halo222\n",
      "25 25\n",
      "Halo229\n",
      "82 82\n",
      "Halo282\n",
      "24 24\n",
      "Halo327\n",
      "34 34\n",
      "Halo349\n",
      "37 37\n",
      "Halo407\n",
      "26 26\n",
      "Halo659\n",
      "75 75\n",
      "Halo666\n",
      "28 28\n",
      "Halo719\n",
      "26 26\n",
      "Halo747\n",
      "28 28\n",
      "Halo756\n",
      "28 28\n",
      "Halo788\n",
      "20 20\n",
      "Halo975\n",
      "19 19\n",
      "Halo983\n",
      "19 19\n"
     ]
    },
    {
     "data": {
      "image/png": "[encoded data removed]",
      "text/plain": [
       "<Figure size 600x400 with 1 Axes>"
      ]
     },
     "metadata": {},
     "output_type": "display_data"
    }
   ],
   "source": [
    "fig, ax = plt.subplots(1, 1, figsize=(6, 4))\n",
    "\n",
    "nsnaps = np.zeros(18)\n",
    "menc = np.zeros(18)\n",
    "\n",
    "i=0\n",
    "for h in halos:\n",
    "    print(h)\n",
    "    \n",
    "    l0 = coeffs_0_dict[h]\n",
    "    nsnaps[i] = len(l0)\n",
    "    menc = np.zeros(int(nsnaps[i]))\n",
    "\n",
    "    for j in range(int(nsnaps[i])):\n",
    "        menc[j] = enclosed_mass(h, halos_init_snap[h]+j)\n",
    "    np.savetxt('monopole_enclosed_mass_{}.txt'.format(h), np.array([np.sqrt(l0), menc]).T)\n",
    "    print(len(menc), len(l0))\n",
    "    \n",
    "    \n",
    "    if h == 'Halo229':\n",
    "        ax.scatter(menc/1e11, 10*np.sqrt(l0),  s=32, label=h, edgecolors='k', alpha=0.7, marker='p')\n",
    "    if h == 'Halo659':\n",
    "        ax.scatter(menc/1e11, 10*np.sqrt(l0), s=32, label=h, edgecolors='k', alpha=0.7, marker='p')\n",
    "    \n",
    "    ax.scatter(menc/1e11, 10*np.sqrt(l0), s=18, label=h, edgecolors='k', alpha=0.7)   \n",
    "    i+=1\n",
    "\n",
    "ax.plot(all_m/1e11, 10*func(all_m/1e11, *popt), c='k', lw=1.4, ls='--')\n",
    "ax.set_xlabel(r'$\\rm{M(<150 kpc) / 10^{11} M_{\\odot}}$')\n",
    "ax.set_ylabel(r'$\\rm{10\\times \\sqrt{W_{0}}}$')\n",
    "ax.set_facecolor('whitesmoke')\n",
    "plt.title(r'$\\rm{Monopole-Halo\\ Mass\\ correlation}$')\n",
    "\n",
    "plt.savefig('Monopole_power_vs_enclosed_mass.png', bbox_inches='tight')\n",
    "plt.savefig('Monopole_power_vs_enclosed_mass.pdf', bbox_inches='tight')\n",
    "\n",
    "plt.show()"
   ]
  },
  {
   "cell_type": "code",
   "execution_count": 25,
   "id": "98ebda95-62ba-42c2-a594-05b9f7320fff",
   "metadata": {
    "execution": {
     "iopub.execute_input": "2024-12-03T22:15:33.440940Z",
     "iopub.status.busy": "2024-12-03T22:15:33.440441Z",
     "iopub.status.idle": "2024-12-03T22:15:33.448161Z",
     "shell.execute_reply": "2024-12-03T22:15:33.447012Z",
     "shell.execute_reply.started": "2024-12-03T22:15:33.440893Z"
    }
   },
   "outputs": [
    {
     "data": {
      "text/plain": [
       "0.2"
      ]
     },
     "execution_count": 25,
     "metadata": {},
     "output_type": "execute_result"
    }
   ],
   "source": [
    "0.025*8"
   ]
  },
  {
   "cell_type": "code",
   "execution_count": 11,
   "id": "098e0f2f-0abc-4276-b6ce-c1189abc331d",
   "metadata": {
    "execution": {
     "iopub.execute_input": "2024-12-31T00:25:42.961733Z",
     "iopub.status.busy": "2024-12-31T00:25:42.960936Z",
     "iopub.status.idle": "2024-12-31T00:25:42.969352Z",
     "shell.execute_reply": "2024-12-31T00:25:42.968168Z",
     "shell.execute_reply.started": "2024-12-31T00:25:42.961658Z"
    }
   },
   "outputs": [],
   "source": [
    "def func(x, a, b=0):\n",
    "    return a * x + b"
   ]
  },
  {
   "cell_type": "code",
   "execution_count": 12,
   "id": "64f331a4-a62c-407c-b02d-113010fca33c",
   "metadata": {
    "execution": {
     "iopub.execute_input": "2024-12-31T00:25:43.191493Z",
     "iopub.status.busy": "2024-12-31T00:25:43.190109Z",
     "iopub.status.idle": "2024-12-31T00:25:43.282224Z",
     "shell.execute_reply": "2024-12-31T00:25:43.281327Z",
     "shell.execute_reply.started": "2024-12-31T00:25:43.191424Z"
    }
   },
   "outputs": [],
   "source": [
    "popt, pcov = scipy.optimize.curve_fit(func, all_m/1e11, all_l)"
   ]
  },
  {
   "cell_type": "code",
   "execution_count": 13,
   "id": "8c9f88bd-525b-4596-9797-af19ba969f5d",
   "metadata": {
    "execution": {
     "iopub.execute_input": "2024-12-31T00:25:43.387667Z",
     "iopub.status.busy": "2024-12-31T00:25:43.386957Z",
     "iopub.status.idle": "2024-12-31T00:25:43.396521Z",
     "shell.execute_reply": "2024-12-31T00:25:43.395100Z",
     "shell.execute_reply.started": "2024-12-31T00:25:43.387619Z"
    }
   },
   "outputs": [
    {
     "data": {
      "text/plain": [
       "array([ 0.04280698, -0.00647417])"
      ]
     },
     "execution_count": 13,
     "metadata": {},
     "output_type": "execute_result"
    }
   ],
   "source": [
    "popt"
   ]
  },
  {
   "cell_type": "code",
   "execution_count": 14,
   "id": "8af14eb4-582c-469d-af01-08c1610c9dfc",
   "metadata": {
    "execution": {
     "iopub.execute_input": "2024-12-31T00:25:43.756419Z",
     "iopub.status.busy": "2024-12-31T00:25:43.755911Z",
     "iopub.status.idle": "2024-12-31T00:25:43.762425Z",
     "shell.execute_reply": "2024-12-31T00:25:43.761051Z",
     "shell.execute_reply.started": "2024-12-31T00:25:43.756376Z"
    }
   },
   "outputs": [],
   "source": [
    "mp = 402830.0 # Msun "
   ]
  },
  {
   "cell_type": "code",
   "execution_count": 15,
   "id": "15b4570c-cc11-48b2-ae60-caf3670aa4e5",
   "metadata": {
    "execution": {
     "iopub.execute_input": "2024-12-31T00:25:44.113727Z",
     "iopub.status.busy": "2024-12-31T00:25:44.113039Z",
     "iopub.status.idle": "2024-12-31T00:25:44.129706Z",
     "shell.execute_reply": "2024-12-31T00:25:44.128476Z",
     "shell.execute_reply.started": "2024-12-31T00:25:44.113676Z"
    }
   },
   "outputs": [
    {
     "name": "stdout",
     "output_type": "stream",
     "text": [
      "Halo004\n",
      "Halo113\n",
      "Halo169\n",
      "Halo170\n",
      "Halo222\n",
      "Halo229\n",
      "Halo282\n",
      "Halo327\n",
      "Halo349\n",
      "Halo407\n",
      "Halo659\n",
      "Halo666\n",
      "Halo719\n",
      "Halo747\n",
      "Halo756\n",
      "Halo788\n",
      "Halo975\n",
      "Halo983\n"
     ]
    }
   ],
   "source": [
    "all_l = np.array([])\n",
    "all_m = np.array([])\n",
    "for h in halos:\n",
    "    print(h)\n",
    "    l0, menc = np.loadtxt('monopole_enclosed_mass_{}.txt'.format(h), unpack=True)\n",
    "    all_l = np.append(all_l, l0)\n",
    "    all_m = np.append(all_m, menc)\n",
    "    "
   ]
  },
  {
   "cell_type": "code",
   "execution_count": 16,
   "id": "45aba8db-0fef-4de4-a557-490406ec5d26",
   "metadata": {
    "execution": {
     "iopub.execute_input": "2024-12-31T00:25:44.858139Z",
     "iopub.status.busy": "2024-12-31T00:25:44.857431Z",
     "iopub.status.idle": "2024-12-31T00:25:44.877047Z",
     "shell.execute_reply": "2024-12-31T00:25:44.875500Z",
     "shell.execute_reply.started": "2024-12-31T00:25:44.858093Z"
    }
   },
   "outputs": [
    {
     "name": "stdout",
     "output_type": "stream",
     "text": [
      "Halo004\n",
      "Halo113\n",
      "Halo169\n",
      "Halo170\n",
      "Halo222\n",
      "Halo229\n",
      "Halo282\n",
      "Halo327\n",
      "Halo349\n",
      "Halo407\n",
      "Halo659\n",
      "Halo666\n",
      "Halo719\n",
      "Halo747\n",
      "Halo756\n",
      "Halo788\n",
      "Halo975\n",
      "Halo983\n"
     ]
    }
   ],
   "source": [
    "all_l = np.array([])\n",
    "all_m = np.array([])\n",
    "for h in halos:\n",
    "    print(h)\n",
    "    l0, menc = np.loadtxt('monopole_enclosed_mass_{}.txt'.format(h), unpack=True)\n",
    "    all_l = np.append(all_l, l0)\n",
    "    all_m = np.append(all_m, menc)"
   ]
  },
  {
   "cell_type": "code",
   "execution_count": 126,
   "id": "177c9eb3-e2e1-4f00-81ce-05d43e5640c4",
   "metadata": {
    "execution": {
     "iopub.execute_input": "2024-12-04T16:39:07.038428Z",
     "iopub.status.busy": "2024-12-04T16:39:07.037303Z",
     "iopub.status.idle": "2024-12-04T16:39:08.319474Z",
     "shell.execute_reply": "2024-12-04T16:39:08.318845Z",
     "shell.execute_reply.started": "2024-12-04T16:39:07.038368Z"
    }
   },
   "outputs": [
    {
     "data": {
      "image/png": "[encoded data removed]",
      "text/plain": [
       "<Figure size 600x420 with 1 Axes>"
      ]
     },
     "metadata": {},
     "output_type": "display_data"
    }
   ],
   "source": [
    "fig, ax = plt.subplots(1, 1)\n",
    "ax.scatter(all_m/1e11, all_l, c='indigo', alpha=0.6, s=15 )\n",
    "ax.plot(all_m/1e11, func(all_m/1e11, *popt), c='k', lw=1.4, ls='--')\n",
    "ax.set_xlabel(r'$\\rm{M(<150 kpc) / 10^{11} M_{\\odot}}$')\n",
    "ax.set_ylabel(r'$\\rm{Power\\ in\\ Monopole\\ (P_{0})}$')\n",
    "#ax.plot([0, 0.4], [0.0, 0.2], c='k')\n",
    "#ax.set_xlim(0.5, 4)\n",
    "#ax.set_ylim(0.5, 4)\n",
    "#fig.set_facecolor('whitesmoke') \n",
    "ax.set_facecolor('whitesmoke')\n",
    "plt.savefig('Monopole_power_vs_enclosed_mass.png', bbox_inches='tight')\n",
    "plt.savefig('Monopole_power_vs_enclosed_mass.pdf', bbox_inches='tight')\n",
    "plt.show()"
   ]
  },
  {
   "cell_type": "code",
   "execution_count": 6,
   "id": "5933422f-799f-416f-a2f8-6dbbbcaed27d",
   "metadata": {
    "execution": {
     "iopub.execute_input": "2024-12-03T20:01:30.560162Z",
     "iopub.status.busy": "2024-12-03T20:01:30.559970Z",
     "iopub.status.idle": "2024-12-03T20:01:30.571241Z",
     "shell.execute_reply": "2024-12-03T20:01:30.570688Z",
     "shell.execute_reply.started": "2024-12-03T20:01:30.560144Z"
    }
   },
   "outputs": [],
   "source": []
  },
  {
   "cell_type": "code",
   "execution_count": 7,
   "id": "22c700e7-fe5a-4575-bf07-59ce37d3a44a",
   "metadata": {
    "execution": {
     "iopub.execute_input": "2024-12-03T20:01:30.572297Z",
     "iopub.status.busy": "2024-12-03T20:01:30.572020Z",
     "iopub.status.idle": "2024-12-03T20:01:30.577162Z",
     "shell.execute_reply": "2024-12-03T20:01:30.576527Z",
     "shell.execute_reply.started": "2024-12-03T20:01:30.572275Z"
    }
   },
   "outputs": [
    {
     "data": {
      "text/plain": [
       "array([[-9.36943340e+00,  9.63384628e-01,  4.84804964e+00],\n",
       "       [-7.23717880e+00, -1.52445483e+00,  2.24720144e+00],\n",
       "       [ 5.60421228e-01, -1.92102635e+00,  3.24982964e-02],\n",
       "       ...,\n",
       "       [-1.25125256e+01,  2.72803950e+00, -2.96576881e+01],\n",
       "       [ 3.38982010e+01,  3.45266953e+01, -5.98995972e+01],\n",
       "       [-2.81882812e+02, -1.00842285e+02,  2.53094620e+02]], dtype=float32)"
      ]
     },
     "execution_count": 7,
     "metadata": {},
     "output_type": "execute_result"
    }
   ],
   "source": [
    "h['position']"
   ]
  },
  {
   "cell_type": "code",
   "execution_count": 27,
   "id": "cf480a67-7690-4497-86c5-7cdea9095134",
   "metadata": {
    "execution": {
     "iopub.execute_input": "2024-12-03T20:04:16.500034Z",
     "iopub.status.busy": "2024-12-03T20:04:16.499377Z",
     "iopub.status.idle": "2024-12-03T20:04:16.508785Z",
     "shell.execute_reply": "2024-12-03T20:04:16.507414Z",
     "shell.execute_reply.started": "2024-12-03T20:04:16.499985Z"
    }
   },
   "outputs": [
    {
     "data": {
      "text/plain": [
       "18"
      ]
     },
     "execution_count": 27,
     "metadata": {},
     "output_type": "execute_result"
    }
   ],
   "source": [
    "P_all_mean.shape["
   ]
  },
  {
   "cell_type": "code",
   "execution_count": 20,
   "id": "e7052a99-c0fc-49c4-a3e6-351b0d56fb0d",
   "metadata": {
    "execution": {
     "iopub.execute_input": "2024-12-03T20:03:21.626635Z",
     "iopub.status.busy": "2024-12-03T20:03:21.626269Z",
     "iopub.status.idle": "2024-12-03T20:03:21.629747Z",
     "shell.execute_reply": "2024-12-03T20:03:21.629135Z",
     "shell.execute_reply.started": "2024-12-03T20:03:21.626610Z"
    }
   },
   "outputs": [],
   "source": []
  },
  {
   "cell_type": "code",
   "execution_count": 23,
   "id": "86cf07e3-b464-4324-b2b8-715efdf2fd9b",
   "metadata": {
    "execution": {
     "iopub.execute_input": "2024-12-03T20:03:25.102800Z",
     "iopub.status.busy": "2024-12-03T20:03:25.102097Z",
     "iopub.status.idle": "2024-12-03T20:03:25.155043Z",
     "shell.execute_reply": "2024-12-03T20:03:25.154236Z",
     "shell.execute_reply.started": "2024-12-03T20:03:25.102737Z"
    }
   },
   "outputs": [],
   "source": []
  },
  {
   "cell_type": "code",
   "execution_count": 24,
   "id": "d1a6f38f-ed3c-4579-b09d-626d2f799b0a",
   "metadata": {
    "execution": {
     "iopub.execute_input": "2024-12-03T20:03:25.558528Z",
     "iopub.status.busy": "2024-12-03T20:03:25.557531Z",
     "iopub.status.idle": "2024-12-03T20:03:25.566841Z",
     "shell.execute_reply": "2024-12-03T20:03:25.565656Z",
     "shell.execute_reply.started": "2024-12-03T20:03:25.558479Z"
    }
   },
   "outputs": [
    {
     "data": {
      "text/plain": [
       "0.12652366621"
      ]
     },
     "execution_count": 24,
     "metadata": {},
     "output_type": "execute_result"
    }
   ],
   "source": []
  },
  {
   "cell_type": "code",
   "execution_count": 8,
   "id": "a7834120-6a51-432c-a835-ed8551f337a9",
   "metadata": {
    "execution": {
     "iopub.execute_input": "2024-12-03T20:01:30.587697Z",
     "iopub.status.busy": "2024-12-03T20:01:30.587437Z",
     "iopub.status.idle": "2024-12-03T20:01:31.110006Z",
     "shell.execute_reply": "2024-12-03T20:01:31.109452Z",
     "shell.execute_reply.started": "2024-12-03T20:01:30.587676Z"
    }
   },
   "outputs": [
    {
     "data": {
      "text/plain": [
       "[<matplotlib.lines.Line2D at 0x7bdf13fc8940>]"
      ]
     },
     "execution_count": 8,
     "metadata": {},
     "output_type": "execute_result"
    },
    {
     "data": {
      "image/png": "[encoded data removed]",
      "text/plain": [
       "<Figure size 640x480 with 1 Axes>"
      ]
     },
     "metadata": {},
     "output_type": "display_data"
    }
   ],
   "source": [
    "plt.plot(norm(h['position'], axis=1))"
   ]
  },
  {
   "cell_type": "code",
   "execution_count": null,
   "id": "749f3123-7e78-4d60-bd66-9bed81fa181e",
   "metadata": {},
   "outputs": [],
   "source": []
  }
 ],
 "metadata": {
  "kernelspec": {
   "display_name": "Python 3 (ipykernel)",
   "language": "python",
   "name": "python3"
  },
  "language_info": {
   "codemirror_mode": {
    "name": "ipython",
    "version": 3
   },
   "file_extension": ".py",
   "mimetype": "text/x-python",
   "name": "python",
   "nbconvert_exporter": "python",
   "pygments_lexer": "ipython3",
   "version": "3.10.12"
  }
 },
 "nbformat": 4,
 "nbformat_minor": 5
}
