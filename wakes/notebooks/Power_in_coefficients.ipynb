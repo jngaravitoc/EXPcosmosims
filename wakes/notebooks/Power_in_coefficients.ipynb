{
 "cells": [
  {
   "cell_type": "code",
   "execution_count": 2,
   "id": "1581d17c-fd9f-4254-8903-bc3a50a05c23",
   "metadata": {
    "execution": {
     "iopub.execute_input": "2024-12-30T23:04:44.678160Z",
     "iopub.status.busy": "2024-12-30T23:04:44.677690Z",
     "iopub.status.idle": "2024-12-30T23:04:45.157453Z",
     "shell.execute_reply": "2024-12-30T23:04:45.156725Z",
     "shell.execute_reply.started": "2024-12-30T23:04:44.678121Z"
    }
   },
   "outputs": [
    {
     "name": "stdout",
     "output_type": "stream",
     "text": [
      "%pylab is deprecated, use %matplotlib inline and import the required libraries.\n",
      "Populating the interactive namespace from numpy and matplotlib\n"
     ]
    },
    {
     "name": "stderr",
     "output_type": "stream",
     "text": [
      "/home/ngc/.local/lib/python3.10/site-packages/matplotlib/projections/__init__.py:63: UserWarning: Unable to import Axes3D. This may be due to multiple versions of Matplotlib being installed (e.g. as a system package and as a pip package). As a result, the 3D projection is not available.\n",
      "  warnings.warn(\"Unable to import Axes3D. This may be due to multiple versions of \"\n"
     ]
    }
   ],
   "source": [
    "%pylab inline\n",
    "import matplotlib.pyplot as plt\n",
    "import numpy as np\n",
    "import pickle\n",
    "plt.style.use('./../../../MW_viz/matplotlib.mplstyle')\n",
    "\n",
    "from mpl_toolkits.axes_grid1 import make_axes_locatable\n"
   ]
  },
  {
   "cell_type": "code",
   "execution_count": 3,
   "id": "5872ee87-f73c-4e60-a8fa-fc8778e0688a",
   "metadata": {
    "execution": {
     "iopub.execute_input": "2024-12-30T23:04:45.158862Z",
     "iopub.status.busy": "2024-12-30T23:04:45.158554Z",
     "iopub.status.idle": "2024-12-30T23:04:45.172758Z",
     "shell.execute_reply": "2024-12-30T23:04:45.172032Z",
     "shell.execute_reply.started": "2024-12-30T23:04:45.158834Z"
    }
   },
   "outputs": [],
   "source": [
    "P_all_mean = np.loadtxt('../../data/NICO_COEFFS/power_in_coeffs.txt')"
   ]
  },
  {
   "cell_type": "code",
   "execution_count": 4,
   "id": "07f77cb2-36ca-4974-b38a-1d53855da6f7",
   "metadata": {
    "execution": {
     "iopub.execute_input": "2024-12-30T23:04:45.173756Z",
     "iopub.status.busy": "2024-12-30T23:04:45.173484Z",
     "iopub.status.idle": "2024-12-30T23:04:45.180966Z",
     "shell.execute_reply": "2024-12-30T23:04:45.180312Z",
     "shell.execute_reply.started": "2024-12-30T23:04:45.173728Z"
    }
   },
   "outputs": [
    {
     "data": {
      "text/plain": [
       "\u001b[0;31mSignature:\u001b[0m\n",
       "\u001b[0mplt\u001b[0m\u001b[0;34m.\u001b[0m\u001b[0merrorbar\u001b[0m\u001b[0;34m(\u001b[0m\u001b[0;34m\u001b[0m\n",
       "\u001b[0;34m\u001b[0m    \u001b[0mx\u001b[0m\u001b[0;34m:\u001b[0m \u001b[0;34m'float | ArrayLike'\u001b[0m\u001b[0;34m,\u001b[0m\u001b[0;34m\u001b[0m\n",
       "\u001b[0;34m\u001b[0m    \u001b[0my\u001b[0m\u001b[0;34m:\u001b[0m \u001b[0;34m'float | ArrayLike'\u001b[0m\u001b[0;34m,\u001b[0m\u001b[0;34m\u001b[0m\n",
       "\u001b[0;34m\u001b[0m    \u001b[0myerr\u001b[0m\u001b[0;34m:\u001b[0m \u001b[0;34m'float | ArrayLike | None'\u001b[0m \u001b[0;34m=\u001b[0m \u001b[0;32mNone\u001b[0m\u001b[0;34m,\u001b[0m\u001b[0;34m\u001b[0m\n",
       "\u001b[0;34m\u001b[0m    \u001b[0mxerr\u001b[0m\u001b[0;34m:\u001b[0m \u001b[0;34m'float | ArrayLike | None'\u001b[0m \u001b[0;34m=\u001b[0m \u001b[0;32mNone\u001b[0m\u001b[0;34m,\u001b[0m\u001b[0;34m\u001b[0m\n",
       "\u001b[0;34m\u001b[0m    \u001b[0mfmt\u001b[0m\u001b[0;34m:\u001b[0m \u001b[0;34m'str'\u001b[0m \u001b[0;34m=\u001b[0m \u001b[0;34m''\u001b[0m\u001b[0;34m,\u001b[0m\u001b[0;34m\u001b[0m\n",
       "\u001b[0;34m\u001b[0m    \u001b[0mecolor\u001b[0m\u001b[0;34m:\u001b[0m \u001b[0;34m'ColorType | None'\u001b[0m \u001b[0;34m=\u001b[0m \u001b[0;32mNone\u001b[0m\u001b[0;34m,\u001b[0m\u001b[0;34m\u001b[0m\n",
       "\u001b[0;34m\u001b[0m    \u001b[0melinewidth\u001b[0m\u001b[0;34m:\u001b[0m \u001b[0;34m'float | None'\u001b[0m \u001b[0;34m=\u001b[0m \u001b[0;32mNone\u001b[0m\u001b[0;34m,\u001b[0m\u001b[0;34m\u001b[0m\n",
       "\u001b[0;34m\u001b[0m    \u001b[0mcapsize\u001b[0m\u001b[0;34m:\u001b[0m \u001b[0;34m'float | None'\u001b[0m \u001b[0;34m=\u001b[0m \u001b[0;32mNone\u001b[0m\u001b[0;34m,\u001b[0m\u001b[0;34m\u001b[0m\n",
       "\u001b[0;34m\u001b[0m    \u001b[0mbarsabove\u001b[0m\u001b[0;34m:\u001b[0m \u001b[0;34m'bool'\u001b[0m \u001b[0;34m=\u001b[0m \u001b[0;32mFalse\u001b[0m\u001b[0;34m,\u001b[0m\u001b[0;34m\u001b[0m\n",
       "\u001b[0;34m\u001b[0m    \u001b[0mlolims\u001b[0m\u001b[0;34m:\u001b[0m \u001b[0;34m'bool | ArrayLike'\u001b[0m \u001b[0;34m=\u001b[0m \u001b[0;32mFalse\u001b[0m\u001b[0;34m,\u001b[0m\u001b[0;34m\u001b[0m\n",
       "\u001b[0;34m\u001b[0m    \u001b[0muplims\u001b[0m\u001b[0;34m:\u001b[0m \u001b[0;34m'bool | ArrayLike'\u001b[0m \u001b[0;34m=\u001b[0m \u001b[0;32mFalse\u001b[0m\u001b[0;34m,\u001b[0m\u001b[0;34m\u001b[0m\n",
       "\u001b[0;34m\u001b[0m    \u001b[0mxlolims\u001b[0m\u001b[0;34m:\u001b[0m \u001b[0;34m'bool | ArrayLike'\u001b[0m \u001b[0;34m=\u001b[0m \u001b[0;32mFalse\u001b[0m\u001b[0;34m,\u001b[0m\u001b[0;34m\u001b[0m\n",
       "\u001b[0;34m\u001b[0m    \u001b[0mxuplims\u001b[0m\u001b[0;34m:\u001b[0m \u001b[0;34m'bool | ArrayLike'\u001b[0m \u001b[0;34m=\u001b[0m \u001b[0;32mFalse\u001b[0m\u001b[0;34m,\u001b[0m\u001b[0;34m\u001b[0m\n",
       "\u001b[0;34m\u001b[0m    \u001b[0merrorevery\u001b[0m\u001b[0;34m:\u001b[0m \u001b[0;34m'int | tuple[int, int]'\u001b[0m \u001b[0;34m=\u001b[0m \u001b[0;36m1\u001b[0m\u001b[0;34m,\u001b[0m\u001b[0;34m\u001b[0m\n",
       "\u001b[0;34m\u001b[0m    \u001b[0mcapthick\u001b[0m\u001b[0;34m:\u001b[0m \u001b[0;34m'float | None'\u001b[0m \u001b[0;34m=\u001b[0m \u001b[0;32mNone\u001b[0m\u001b[0;34m,\u001b[0m\u001b[0;34m\u001b[0m\n",
       "\u001b[0;34m\u001b[0m    \u001b[0;34m*\u001b[0m\u001b[0;34m,\u001b[0m\u001b[0;34m\u001b[0m\n",
       "\u001b[0;34m\u001b[0m    \u001b[0mdata\u001b[0m\u001b[0;34m=\u001b[0m\u001b[0;32mNone\u001b[0m\u001b[0;34m,\u001b[0m\u001b[0;34m\u001b[0m\n",
       "\u001b[0;34m\u001b[0m    \u001b[0;34m**\u001b[0m\u001b[0mkwargs\u001b[0m\u001b[0;34m,\u001b[0m\u001b[0;34m\u001b[0m\n",
       "\u001b[0;34m\u001b[0m\u001b[0;34m)\u001b[0m \u001b[0;34m->\u001b[0m \u001b[0;34m'ErrorbarContainer'\u001b[0m\u001b[0;34m\u001b[0m\u001b[0;34m\u001b[0m\u001b[0m\n",
       "\u001b[0;31mDocstring:\u001b[0m\n",
       "Plot y versus x as lines and/or markers with attached errorbars.\n",
       "\n",
       "*x*, *y* define the data locations, *xerr*, *yerr* define the errorbar\n",
       "sizes. By default, this draws the data markers/lines as well as the\n",
       "errorbars. Use fmt='none' to draw errorbars without any data markers.\n",
       "\n",
       ".. versionadded:: 3.7\n",
       "   Caps and error lines are drawn in polar coordinates on polar plots.\n",
       "\n",
       "\n",
       "Parameters\n",
       "----------\n",
       "x, y : float or array-like\n",
       "    The data positions.\n",
       "\n",
       "xerr, yerr : float or array-like, shape(N,) or shape(2, N), optional\n",
       "    The errorbar sizes:\n",
       "\n",
       "    - scalar: Symmetric +/- values for all data points.\n",
       "    - shape(N,): Symmetric +/-values for each data point.\n",
       "    - shape(2, N): Separate - and + values for each bar. First row\n",
       "      contains the lower errors, the second row contains the upper\n",
       "      errors.\n",
       "    - *None*: No errorbar.\n",
       "\n",
       "    All values must be >= 0.\n",
       "\n",
       "    See :doc:`/gallery/statistics/errorbar_features`\n",
       "    for an example on the usage of ``xerr`` and ``yerr``.\n",
       "\n",
       "fmt : str, default: ''\n",
       "    The format for the data points / data lines. See `.plot` for\n",
       "    details.\n",
       "\n",
       "    Use 'none' (case-insensitive) to plot errorbars without any data\n",
       "    markers.\n",
       "\n",
       "ecolor : :mpltype:`color`, default: None\n",
       "    The color of the errorbar lines.  If None, use the color of the\n",
       "    line connecting the markers.\n",
       "\n",
       "elinewidth : float, default: None\n",
       "    The linewidth of the errorbar lines. If None, the linewidth of\n",
       "    the current style is used.\n",
       "\n",
       "capsize : float, default: :rc:`errorbar.capsize`\n",
       "    The length of the error bar caps in points.\n",
       "\n",
       "capthick : float, default: None\n",
       "    An alias to the keyword argument *markeredgewidth* (a.k.a. *mew*).\n",
       "    This setting is a more sensible name for the property that\n",
       "    controls the thickness of the error bar cap in points. For\n",
       "    backwards compatibility, if *mew* or *markeredgewidth* are given,\n",
       "    then they will over-ride *capthick*. This may change in future\n",
       "    releases.\n",
       "\n",
       "barsabove : bool, default: False\n",
       "    If True, will plot the errorbars above the plot\n",
       "    symbols. Default is below.\n",
       "\n",
       "lolims, uplims, xlolims, xuplims : bool or array-like, default: False\n",
       "    These arguments can be used to indicate that a value gives only\n",
       "    upper/lower limits.  In that case a caret symbol is used to\n",
       "    indicate this. *lims*-arguments may be scalars, or array-likes of\n",
       "    the same length as *xerr* and *yerr*.  To use limits with inverted\n",
       "    axes, `~.Axes.set_xlim` or `~.Axes.set_ylim` must be called before\n",
       "    :meth:`errorbar`.  Note the tricky parameter names: setting e.g.\n",
       "    *lolims* to True means that the y-value is a *lower* limit of the\n",
       "    True value, so, only an *upward*-pointing arrow will be drawn!\n",
       "\n",
       "errorevery : int or (int, int), default: 1\n",
       "    draws error bars on a subset of the data. *errorevery* =N draws\n",
       "    error bars on the points (x[::N], y[::N]).\n",
       "    *errorevery* =(start, N) draws error bars on the points\n",
       "    (x[start::N], y[start::N]). e.g. errorevery=(6, 3)\n",
       "    adds error bars to the data at (x[6], x[9], x[12], x[15], ...).\n",
       "    Used to avoid overlapping error bars when two series share x-axis\n",
       "    values.\n",
       "\n",
       "Returns\n",
       "-------\n",
       "`.ErrorbarContainer`\n",
       "    The container contains:\n",
       "\n",
       "    - data_line : A `~matplotlib.lines.Line2D` instance of x, y plot markers\n",
       "      and/or line.\n",
       "    - caplines : A tuple of `~matplotlib.lines.Line2D` instances of the error\n",
       "      bar caps.\n",
       "    - barlinecols : A tuple of `.LineCollection` with the horizontal and\n",
       "      vertical error ranges.\n",
       "\n",
       "Other Parameters\n",
       "----------------\n",
       "data : indexable object, optional\n",
       "    If given, the following parameters also accept a string ``s``, which is\n",
       "    interpreted as ``data[s]`` (unless this raises an exception):\n",
       "\n",
       "    *x*, *y*, *xerr*, *yerr*\n",
       "\n",
       "**kwargs\n",
       "    All other keyword arguments are passed on to the `~.Axes.plot` call\n",
       "    drawing the markers. For example, this code makes big red squares\n",
       "    with thick green edges::\n",
       "\n",
       "        x, y, yerr = rand(3, 10)\n",
       "        errorbar(x, y, yerr, marker='s', mfc='red',\n",
       "                 mec='green', ms=20, mew=4)\n",
       "\n",
       "    where *mfc*, *mec*, *ms* and *mew* are aliases for the longer\n",
       "    property names, *markerfacecolor*, *markeredgecolor*, *markersize*\n",
       "    and *markeredgewidth*.\n",
       "\n",
       "    Valid kwargs for the marker properties are:\n",
       "\n",
       "    - *dashes*\n",
       "    - *dash_capstyle*\n",
       "    - *dash_joinstyle*\n",
       "    - *drawstyle*\n",
       "    - *fillstyle*\n",
       "    - *linestyle*\n",
       "    - *marker*\n",
       "    - *markeredgecolor*\n",
       "    - *markeredgewidth*\n",
       "    - *markerfacecolor*\n",
       "    - *markerfacecoloralt*\n",
       "    - *markersize*\n",
       "    - *markevery*\n",
       "    - *solid_capstyle*\n",
       "    - *solid_joinstyle*\n",
       "\n",
       "    Refer to the corresponding `.Line2D` property for more details:\n",
       "\n",
       "    Properties:\n",
       "    agg_filter: a filter function, which takes a (m, n, 3) float array and a dpi value, and returns a (m, n, 3) array and two offsets from the bottom left corner of the image\n",
       "    alpha: scalar or None\n",
       "    animated: bool\n",
       "    antialiased or aa: bool\n",
       "    clip_box: `~matplotlib.transforms.BboxBase` or None\n",
       "    clip_on: bool\n",
       "    clip_path: Patch or (Path, Transform) or None\n",
       "    color or c: :mpltype:`color`\n",
       "    dash_capstyle: `.CapStyle` or {'butt', 'projecting', 'round'}\n",
       "    dash_joinstyle: `.JoinStyle` or {'miter', 'round', 'bevel'}\n",
       "    dashes: sequence of floats (on/off ink in points) or (None, None)\n",
       "    data: (2, N) array or two 1D arrays\n",
       "    drawstyle or ds: {'default', 'steps', 'steps-pre', 'steps-mid', 'steps-post'}, default: 'default'\n",
       "    figure: `~matplotlib.figure.Figure`\n",
       "    fillstyle: {'full', 'left', 'right', 'bottom', 'top', 'none'}\n",
       "    gapcolor: :mpltype:`color` or None\n",
       "    gid: str\n",
       "    in_layout: bool\n",
       "    label: object\n",
       "    linestyle or ls: {'-', '--', '-.', ':', '', (offset, on-off-seq), ...}\n",
       "    linewidth or lw: float\n",
       "    marker: marker style string, `~.path.Path` or `~.markers.MarkerStyle`\n",
       "    markeredgecolor or mec: :mpltype:`color`\n",
       "    markeredgewidth or mew: float\n",
       "    markerfacecolor or mfc: :mpltype:`color`\n",
       "    markerfacecoloralt or mfcalt: :mpltype:`color`\n",
       "    markersize or ms: float\n",
       "    markevery: None or int or (int, int) or slice or list[int] or float or (float, float) or list[bool]\n",
       "    mouseover: bool\n",
       "    path_effects: list of `.AbstractPathEffect`\n",
       "    picker: float or callable[[Artist, Event], tuple[bool, dict]]\n",
       "    pickradius: float\n",
       "    rasterized: bool\n",
       "    sketch_params: (scale: float, length: float, randomness: float)\n",
       "    snap: bool or None\n",
       "    solid_capstyle: `.CapStyle` or {'butt', 'projecting', 'round'}\n",
       "    solid_joinstyle: `.JoinStyle` or {'miter', 'round', 'bevel'}\n",
       "    transform: unknown\n",
       "    url: str\n",
       "    visible: bool\n",
       "    xdata: 1D array\n",
       "    ydata: 1D array\n",
       "    zorder: float\n",
       "\n",
       "Notes\n",
       "-----\n",
       "\n",
       ".. note::\n",
       "\n",
       "    This is the :ref:`pyplot wrapper <pyplot_interface>` for `.axes.Axes.errorbar`.\n",
       "\u001b[0;31mFile:\u001b[0m      ~/.local/lib/python3.10/site-packages/matplotlib/pyplot.py\n",
       "\u001b[0;31mType:\u001b[0m      function"
      ]
     },
     "metadata": {},
     "output_type": "display_data"
    }
   ],
   "source": [
    "plt.errorbar?"
   ]
  },
  {
   "cell_type": "code",
   "execution_count": 10,
   "id": "a26a8230-4939-4af2-8315-a606cc18627c",
   "metadata": {
    "execution": {
     "iopub.execute_input": "2024-12-30T23:05:58.991748Z",
     "iopub.status.busy": "2024-12-30T23:05:58.990924Z",
     "iopub.status.idle": "2024-12-30T23:06:00.877024Z",
     "shell.execute_reply": "2024-12-30T23:06:00.876339Z",
     "shell.execute_reply.started": "2024-12-30T23:05:58.991670Z"
    }
   },
   "outputs": [
    {
     "data": {
      "image/png": "[encoded data removed]",
      "text/plain": [
       "<Figure size 1200x400 with 2 Axes>"
      ]
     },
     "metadata": {},
     "output_type": "display_data"
    }
   ],
   "source": [
    "Halos_labels = ['Halo 666', 'Halo 719', 'Halo 169', 'Halo 975', 'Halo 222', 'Halo 170', \n",
    "                'Halo 349', 'Halo 983', 'Halo 004', 'Halo 327', 'Halo 756', 'Halo 407',\n",
    "                'Halo 282', 'Halo 659', 'Halo 747', 'Halo 788', 'Halo 113', 'Halo 229']\n",
    "\n",
    "\n",
    "\n",
    "fig, ax = plt.subplots(1, 1, figsize=(12, 4), sharey=False)\n",
    "cbar1 = ax.imshow((P_all_mean), origin='lower', cmap='Purples')\n",
    "\n",
    "ax.set_xticks(np.arange(0, 18, 1), Halos_labels, rotation=90)\n",
    "ax.set_yticks(np.arange(0, 6, 1), [r'$l=0$', r'$l=1$', r'$l=2$', r'$l=3$', r'$l=4$', r'$l=5$'])\n",
    "\n",
    "\n",
    "plt.tick_params(\n",
    "    axis='x',          # changes apply to the x-axis\n",
    "    which='minor',      # both major and minor ticks are affected\n",
    "    bottom=False,      # ticks along the bottom edge are off\n",
    "    top=False,         # ticks along the top edge are off\n",
    "    labelbottom=False) #\n",
    "\n",
    "plt.tick_params(\n",
    "    axis='y',          # changes apply to the x-axis\n",
    "    which='minor',      # both major and minor ticks are affected\n",
    "    right=False,      # ticks along the bottom edge are off\n",
    "    left=False,         # ticks along the top edge are off\n",
    "    labelbottom=False) #\n",
    "\n",
    "cax = fig.add_axes([ax.get_position().x1 + 0.01,ax.get_position().y0,0.02,ax.get_position().y1-ax.get_position().y0])\n",
    "\n",
    "ax.set_title(r'$\\rm{Mean\\ Gravitational\\ Energy\\ in\\ each\\ halo}$')\n",
    "cb1 = fig.colorbar(cbar1, cax=cax, orientation='vertical')\n",
    "#cb2 = fig.colorbar(cbar2, ax=ax[1], orientation='horizontal')\n",
    "\n",
    "cb1.set_label(r'$\\rm{Log_{10}} \\overline{W}$')\n",
    "\n",
    "\n",
    "\n",
    "\n",
    "plt.savefig('power_in_coefficients.png', bbox_inches='tight')\n",
    "plt.savefig('power_in_coefficients.pdf', bbox_inches='tight')\n",
    "\n",
    "plt.show()"
   ]
  },
  {
   "cell_type": "code",
   "execution_count": 13,
   "id": "748a5e86-ed6b-40d0-8b0d-185f140c7fef",
   "metadata": {
    "execution": {
     "iopub.execute_input": "2024-12-30T23:06:24.017483Z",
     "iopub.status.busy": "2024-12-30T23:06:24.016744Z",
     "iopub.status.idle": "2024-12-30T23:06:24.985756Z",
     "shell.execute_reply": "2024-12-30T23:06:24.984799Z",
     "shell.execute_reply.started": "2024-12-30T23:06:24.017437Z"
    }
   },
   "outputs": [
    {
     "data": {
      "image/png": "[encoded data removed]",
      "text/plain": [
       "<Figure size 600x420 with 1 Axes>"
      ]
     },
     "metadata": {},
     "output_type": "display_data"
    }
   ],
   "source": [
    "plt.plot(6,4)\n",
    "plt.title(r'$\\rm{Mean\\ Gravitational\\ Energy\\ across\\ halos}$', fontsize=20)\n",
    "plt.errorbar(np.arange(0, 6), np.mean(P_all_mean, axis=1), yerr=np.std(P_all_mean, axis=1), c='k', fmt='o', capsize=6)\n",
    "plt.xticks([0, 1, 2, 3, 4, 5])\n",
    "plt.xlabel(r'$l$')\n",
    "plt.ylabel(r'$\\rm{Log_{10} \\overline{W}_{halos}}$')\n",
    "plt.ylim(-6.5, 0)\n",
    "plt.xlim(-0.5, 5.5)\n",
    "fig.set_facecolor('whitesmoke')\n",
    "plt.savefig('mean_power_across_halos.pdf', bbox_inches='tight')\n",
    "plt.show()\n"
   ]
  },
  {
   "cell_type": "code",
   "execution_count": null,
   "id": "f9136769-a616-40d2-8498-af0f81c89de1",
   "metadata": {},
   "outputs": [],
   "source": []
  },
  {
   "cell_type": "code",
   "execution_count": null,
   "id": "a403605e-fcc2-4280-8637-6c63ab62986f",
   "metadata": {},
   "outputs": [],
   "source": []
  }
 ],
 "metadata": {
  "kernelspec": {
   "display_name": "Python 3 (ipykernel)",
   "language": "python",
   "name": "python3"
  },
  "language_info": {
   "codemirror_mode": {
    "name": "ipython",
    "version": 3
   },
   "file_extension": ".py",
   "mimetype": "text/x-python",
   "name": "python",
   "nbconvert_exporter": "python",
   "pygments_lexer": "ipython3",
   "version": "3.10.12"
  }
 },
 "nbformat": 4,
 "nbformat_minor": 5
}
