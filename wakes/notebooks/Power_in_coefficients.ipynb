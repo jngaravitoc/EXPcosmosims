{
 "cells": [
  {
   "cell_type": "code",
   "execution_count": 1,
   "id": "1581d17c-fd9f-4254-8903-bc3a50a05c23",
   "metadata": {
    "execution": {
     "iopub.execute_input": "2025-05-17T13:51:36.159618Z",
     "iopub.status.busy": "2025-05-17T13:51:36.159403Z",
     "iopub.status.idle": "2025-05-17T13:51:36.510281Z",
     "shell.execute_reply": "2025-05-17T13:51:36.509831Z",
     "shell.execute_reply.started": "2025-05-17T13:51:36.159601Z"
    }
   },
   "outputs": [
    {
     "name": "stdout",
     "output_type": "stream",
     "text": [
      "%pylab is deprecated, use %matplotlib inline and import the required libraries.\n",
      "Populating the interactive namespace from numpy and matplotlib\n"
     ]
    }
   ],
   "source": [
    "%pylab inline\n",
    "import matplotlib.pyplot as plt\n",
    "import numpy as np\n",
    "import pickle\n",
    "#plt.style.use('./../../../MW_viz/matplotlib.mplstyle')\n",
    "\n",
    "from mpl_toolkits.axes_grid1 import make_axes_locatable\n",
    "import pyEXP"
   ]
  },
  {
   "cell_type": "code",
   "execution_count": 2,
   "id": "1b1b97f2-96f8-460d-b83b-fb1c309c8338",
   "metadata": {
    "execution": {
     "iopub.execute_input": "2025-05-17T13:51:36.511409Z",
     "iopub.status.busy": "2025-05-17T13:51:36.511183Z",
     "iopub.status.idle": "2025-05-17T13:51:36.513712Z",
     "shell.execute_reply": "2025-05-17T13:51:36.513306Z",
     "shell.execute_reply.started": "2025-05-17T13:51:36.511394Z"
    }
   },
   "outputs": [],
   "source": [
    "halos = ['Halo666', 'Halo719', 'Halo169', 'Halo975', 'Halo222', 'Halo170', \n",
    "         'Halo349', 'Halo983', 'Halo004', 'Halo327', 'Halo756', 'Halo407',\n",
    "         'Halo282', 'Halo659', 'Halo747', 'Halo788', 'Halo113', 'Halo229']\n"
   ]
  },
  {
   "cell_type": "code",
   "execution_count": 3,
   "id": "ee006933-364a-41d3-b035-e4096b70cc35",
   "metadata": {
    "execution": {
     "iopub.execute_input": "2025-05-17T13:51:36.514397Z",
     "iopub.status.busy": "2025-05-17T13:51:36.514222Z",
     "iopub.status.idle": "2025-05-17T13:51:36.597502Z",
     "shell.execute_reply": "2025-05-17T13:51:36.596896Z",
     "shell.execute_reply.started": "2025-05-17T13:51:36.514376Z"
    }
   },
   "outputs": [],
   "source": [
    "halos_power = []\n",
    "halos_times = []\n",
    "\n",
    "for h in halos:\n",
    "    power = pyEXP.coefs.Coefs.factory('../../data/NICO_COEFFS/Coefficients/{}_rotated_NEW.h5'.format(h)).Power()\n",
    "    times = pyEXP.coefs.Coefs.factory('../../data/NICO_COEFFS/Coefficients/{}_rotated_NEW.h5'.format(h)).Times()\n",
    "    halos_power.append(power)\n",
    "    halos_times.append(times)"
   ]
  },
  {
   "cell_type": "code",
   "execution_count": 14,
   "id": "39b798a6-3912-4524-81b4-99a4986085e2",
   "metadata": {
    "execution": {
     "iopub.execute_input": "2025-05-17T14:25:23.227798Z",
     "iopub.status.busy": "2025-05-17T14:25:23.227107Z",
     "iopub.status.idle": "2025-05-17T14:25:23.233082Z",
     "shell.execute_reply": "2025-05-17T14:25:23.232113Z",
     "shell.execute_reply.started": "2025-05-17T14:25:23.227721Z"
    }
   },
   "outputs": [],
   "source": [
    "power_mean = np.zeros((len(halos), 6))"
   ]
  },
  {
   "cell_type": "code",
   "execution_count": 29,
   "id": "94c217a6-a4db-4541-8880-2ab9f92066c4",
   "metadata": {
    "execution": {
     "iopub.execute_input": "2025-05-17T14:33:02.352819Z",
     "iopub.status.busy": "2025-05-17T14:33:02.352437Z",
     "iopub.status.idle": "2025-05-17T14:33:02.358582Z",
     "shell.execute_reply": "2025-05-17T14:33:02.357975Z",
     "shell.execute_reply.started": "2025-05-17T14:33:02.352772Z"
    }
   },
   "outputs": [
    {
     "data": {
      "text/plain": [
       "array([1.09607524e-01, 1.73906308e-03, 6.85976503e-04, 6.99621941e-05,\n",
       "       3.82519777e-05, 8.72885239e-06])"
      ]
     },
     "execution_count": 29,
     "metadata": {},
     "output_type": "execute_result"
    }
   ],
   "source": [
    "halos_power[i][0]"
   ]
  },
  {
   "cell_type": "code",
   "execution_count": 53,
   "id": "9f9d0a0a-b5e0-438e-b357-7e07e1a628ed",
   "metadata": {
    "execution": {
     "iopub.execute_input": "2025-05-17T14:37:23.787016Z",
     "iopub.status.busy": "2025-05-17T14:37:23.786490Z",
     "iopub.status.idle": "2025-05-17T14:37:23.793620Z",
     "shell.execute_reply": "2025-05-17T14:37:23.792862Z",
     "shell.execute_reply.started": "2025-05-17T14:37:23.786969Z"
    }
   },
   "outputs": [
    {
     "data": {
      "text/plain": [
       "array([1.00000000e+00, 1.58662746e-02, 6.25848004e-03, 6.38297367e-04,\n",
       "       3.48990436e-04, 7.96373465e-05])"
      ]
     },
     "execution_count": 53,
     "metadata": {},
     "output_type": "execute_result"
    }
   ],
   "source": [
    "halos_power[i][0]/halos_power[i][0][0]"
   ]
  },
  {
   "cell_type": "code",
   "execution_count": 74,
   "id": "2f2fe907-a9f8-4b2a-ad7d-d7fecc3f03d6",
   "metadata": {
    "execution": {
     "iopub.execute_input": "2025-05-17T14:40:13.806706Z",
     "iopub.status.busy": "2025-05-17T14:40:13.806303Z",
     "iopub.status.idle": "2025-05-17T14:40:13.812283Z",
     "shell.execute_reply": "2025-05-17T14:40:13.811920Z",
     "shell.execute_reply.started": "2025-05-17T14:40:13.806670Z"
    }
   },
   "outputs": [],
   "source": [
    "power_peris = np.zeros((len(halos), 6))\n",
    "for i in range(len(halos)):\n",
    "    peri = np.where(np.array(halos_times[i]) == 0.0)[0]\n",
    "    #print(halos_power[i][peri])\n",
    "    power_peris[i] = halos_power[i][peri]/halos_power[i][peri][0][0]\n",
    "    power_mean[i]= np.mean(halos_power[i]/halos_power[i][0][0], axis=0)\n",
    "    #print(power_peris[i], halos_power[i][peri])\n"
   ]
  },
  {
   "cell_type": "code",
   "execution_count": 75,
   "id": "6078593a-4248-4976-a7f5-2552949f460e",
   "metadata": {
    "execution": {
     "iopub.execute_input": "2025-05-17T14:40:14.152706Z",
     "iopub.status.busy": "2025-05-17T14:40:14.152358Z",
     "iopub.status.idle": "2025-05-17T14:40:14.156064Z",
     "shell.execute_reply": "2025-05-17T14:40:14.155676Z",
     "shell.execute_reply.started": "2025-05-17T14:40:14.152685Z"
    }
   },
   "outputs": [
    {
     "data": {
      "text/plain": [
       "(18, 6)"
      ]
     },
     "execution_count": 75,
     "metadata": {},
     "output_type": "execute_result"
    }
   ],
   "source": [
    "power_mean.shape"
   ]
  },
  {
   "cell_type": "code",
   "execution_count": 76,
   "id": "746bb6fe-39f8-4151-9ab1-fe9946171909",
   "metadata": {
    "execution": {
     "iopub.execute_input": "2025-05-17T14:40:14.440820Z",
     "iopub.status.busy": "2025-05-17T14:40:14.440607Z",
     "iopub.status.idle": "2025-05-17T14:40:14.613755Z",
     "shell.execute_reply": "2025-05-17T14:40:14.613365Z",
     "shell.execute_reply.started": "2025-05-17T14:40:14.440802Z"
    }
   },
   "outputs": [
    {
     "data": {
      "image/png": "[encoded data removed]",
      "text/plain": [
       "<Figure size 640x480 with 1 Axes>"
      ]
     },
     "metadata": {},
     "output_type": "display_data"
    }
   ],
   "source": [
    "plt.scatter(np.arange(0, 6), np.mean(power_peris.T, axis=1))\n",
    "plt.scatter(np.arange(0, 6), np.mean(power_mean.T, axis=1))\n",
    "\n",
    "plt.yscale('log')\n",
    "plt.show()"
   ]
  },
  {
   "cell_type": "code",
   "execution_count": 30,
   "id": "5872ee87-f73c-4e60-a8fa-fc8778e0688a",
   "metadata": {
    "execution": {
     "iopub.execute_input": "2025-05-17T13:19:52.767689Z",
     "iopub.status.busy": "2025-05-17T13:19:52.767197Z",
     "iopub.status.idle": "2025-05-17T13:19:52.775533Z",
     "shell.execute_reply": "2025-05-17T13:19:52.774036Z",
     "shell.execute_reply.started": "2025-05-17T13:19:52.767649Z"
    }
   },
   "outputs": [],
   "source": [
    "P_all_mean = np.loadtxt('../../data/NICO_COEFFS/power_in_coeffs.txt')"
   ]
  },
  {
   "cell_type": "code",
   "execution_count": null,
   "id": "3b18b5ee-ddee-4d5a-9df2-a8db5b336003",
   "metadata": {},
   "outputs": [],
   "source": [
    "#P_all_mean = np.loadtxt('../../data/NICO_COEFFS/power_in_coeffs.txt')"
   ]
  },
  {
   "cell_type": "code",
   "execution_count": 31,
   "id": "6bf3059e-79d3-4740-9531-0320ab98cd59",
   "metadata": {
    "execution": {
     "iopub.execute_input": "2025-05-17T13:19:54.340461Z",
     "iopub.status.busy": "2025-05-17T13:19:54.339913Z",
     "iopub.status.idle": "2025-05-17T13:19:54.349285Z",
     "shell.execute_reply": "2025-05-17T13:19:54.348006Z",
     "shell.execute_reply.started": "2025-05-17T13:19:54.340416Z"
    }
   },
   "outputs": [
    {
     "data": {
      "text/plain": [
       "(6, 18)"
      ]
     },
     "execution_count": 31,
     "metadata": {},
     "output_type": "execute_result"
    }
   ],
   "source": [
    "P_all_mean.shape"
   ]
  },
  {
   "cell_type": "code",
   "execution_count": 32,
   "id": "33a9bfd8-f50e-422e-ae60-d234c22f29bf",
   "metadata": {
    "execution": {
     "iopub.execute_input": "2025-05-17T13:19:55.691499Z",
     "iopub.status.busy": "2025-05-17T13:19:55.691186Z",
     "iopub.status.idle": "2025-05-17T13:19:55.695385Z",
     "shell.execute_reply": "2025-05-17T13:19:55.694677Z",
     "shell.execute_reply.started": "2025-05-17T13:19:55.691476Z"
    }
   },
   "outputs": [],
   "source": [
    "l2s = np.argsort(P_all_mean[2])\n",
    "Pl2 = np.zeros_like(P_all_mean)\n",
    "for i in range(6):\n",
    "    Pl2[i,:] = P_all_mean[i,l2s]"
   ]
  },
  {
   "cell_type": "code",
   "execution_count": 42,
   "id": "7ea94cc9-5220-4449-bbd0-2ded93d6c10f",
   "metadata": {
    "execution": {
     "iopub.execute_input": "2025-05-17T13:22:30.097933Z",
     "iopub.status.busy": "2025-05-17T13:22:30.097375Z",
     "iopub.status.idle": "2025-05-17T13:22:30.106984Z",
     "shell.execute_reply": "2025-05-17T13:22:30.105527Z",
     "shell.execute_reply.started": "2025-05-17T13:22:30.097886Z"
    }
   },
   "outputs": [
    {
     "name": "stdout",
     "output_type": "stream",
     "text": [
      "['Halo 747', 'Halo 407', 'Halo 113', 'Halo 719', 'Halo 169', 'Halo 983', 'Halo 756', 'Halo 222', 'Halo 327', 'Halo 349', 'Halo 666', 'Halo 282', 'Halo 975', 'Halo 170', 'Halo 004', 'Halo 229', 'Halo 659', 'Halo 788']\n"
     ]
    }
   ],
   "source": [
    "Halos_labels = ['Halo 666', 'Halo 719', 'Halo 169', 'Halo 975', 'Halo 222', 'Halo 170', \n",
    "                'Halo 349', 'Halo 983', 'Halo 004', 'Halo 327', 'Halo 756', 'Halo 407',\n",
    "                'Halo 282', 'Halo 659', 'Halo 747', 'Halo 788', 'Halo 113', 'Halo 229']\n",
    "\n",
    "Halos_labels_l2s = []\n",
    "for i in range(len(l2s)):\n",
    "    Halos_labels_l2s.append(Halos_labels[l2s[i]])\n",
    "print(Halos_labels_l2s)"
   ]
  },
  {
   "cell_type": "code",
   "execution_count": 44,
   "id": "ae51931f-2334-4e73-8039-cfdbc57baa8c",
   "metadata": {
    "execution": {
     "iopub.execute_input": "2025-05-17T13:23:02.173350Z",
     "iopub.status.busy": "2025-05-17T13:23:02.172610Z",
     "iopub.status.idle": "2025-05-17T13:23:03.810609Z",
     "shell.execute_reply": "2025-05-17T13:23:03.810032Z",
     "shell.execute_reply.started": "2025-05-17T13:23:02.173302Z"
    }
   },
   "outputs": [
    {
     "data": {
      "image/png": "[encoded data removed]",
      "text/plain": [
       "<Figure size 1200x400 with 2 Axes>"
      ]
     },
     "metadata": {},
     "output_type": "display_data"
    }
   ],
   "source": [
    "\n",
    "\n",
    "\n",
    "fig, ax = plt.subplots(1, 1, figsize=(12, 4), sharey=False)\n",
    "cbar1 = ax.imshow((Pl2), origin='lower', cmap='Purples')\n",
    "\n",
    "ax.set_xticks(np.arange(0, 18, 1), Halos_labels_l2s, rotation=90)\n",
    "ax.set_yticks(np.arange(0, 6, 1), [r'$l=0$', r'$l=1$', r'$l=2$', r'$l=3$', r'$l=4$', r'$l=5$'])\n",
    "\n",
    "\n",
    "plt.tick_params(\n",
    "axis='x',          # changes apply to the x-axis\n",
    "which='minor',      # both major and minor ticks are affected\n",
    "bottom=False,      # ticks along the bottom edge are off\n",
    "top=False,         # ticks along the top edge are off\n",
    "labelbottom=False) #\n",
    "\n",
    "plt.tick_params(\n",
    "    axis='y',          # changes apply to the x-axis\n",
    "    which='minor',      # both major and minor ticks are affected\n",
    "    right=False,      # ticks along the bottom edge are off\n",
    "    left=False,         # ticks along the top edge are off\n",
    "    labelbottom=False) #\n",
    "\n",
    "cax = fig.add_axes([ax.get_position().x1 + 0.01,ax.get_position().y0,0.02,ax.get_position().y1-ax.get_position().y0])\n",
    "\n",
    "ax.set_title(r'$\\rm{Mean\\ Gravitational\\ Energy\\ in\\ each\\ halo}$')\n",
    "cb1 = fig.colorbar(cbar1, cax=cax, orientation='vertical')\n",
    "#cb2 = fig.colorbar(cbar2, ax=ax[1], orientation='horizontal')\n",
    "\n",
    "cb1.set_label(r'$\\rm{Log_{10}} \\overline{W}$')\n",
    "\n",
    "\n",
    "\n",
    "\n",
    "plt.savefig('power_in_coefficients_l2s.png', bbox_inches='tight')\n",
    "plt.savefig('power_in_coefficients_l2s.pdf', bbox_inches='tight')\n",
    "\n",
    "plt.show()"
   ]
  },
  {
   "cell_type": "code",
   "execution_count": 26,
   "id": "748a5e86-ed6b-40d0-8b0d-185f140c7fef",
   "metadata": {
    "execution": {
     "iopub.execute_input": "2025-05-17T13:17:51.385822Z",
     "iopub.status.busy": "2025-05-17T13:17:51.385268Z",
     "iopub.status.idle": "2025-05-17T13:17:52.098200Z",
     "shell.execute_reply": "2025-05-17T13:17:52.097384Z",
     "shell.execute_reply.started": "2025-05-17T13:17:51.385779Z"
    }
   },
   "outputs": [
    {
     "data": {
      "image/png": "[encoded data removed]",
      "text/plain": [
       "<Figure size 600x420 with 1 Axes>"
      ]
     },
     "metadata": {},
     "output_type": "display_data"
    }
   ],
   "source": [
    "plt.plot(6,4)\n",
    "plt.title(r'$\\rm{Mean\\ Gravitational\\ Energy\\ across\\ halos}$', fontsize=20)\n",
    "plt.errorbar(np.arange(0, 6), np.mean(P_all_mean, axis=1), yerr=np.std(P_all_mean, axis=1), c='k', fmt='o', capsize=6)\n",
    "plt.xticks([0, 1, 2, 3, 4, 5])\n",
    "plt.xlabel(r'$l$')\n",
    "plt.ylabel(r'$\\rm{Log_{10} \\overline{W}_{halos}}$')\n",
    "plt.ylim(-6.5, 0)\n",
    "plt.xlim(-0.5, 5.5)\n",
    "fig.set_facecolor('whitesmoke')\n",
    "plt.savefig('mean_power_across_halos.pdf', bbox_inches='tight')\n",
    "plt.show()\n"
   ]
  },
  {
   "cell_type": "code",
   "execution_count": null,
   "id": "f9136769-a616-40d2-8498-af0f81c89de1",
   "metadata": {},
   "outputs": [],
   "source": []
  },
  {
   "cell_type": "code",
   "execution_count": null,
   "id": "a403605e-fcc2-4280-8637-6c63ab62986f",
   "metadata": {},
   "outputs": [],
   "source": []
  }
 ],
 "metadata": {
  "kernelspec": {
   "display_name": "Python 3 (ipykernel)",
   "language": "python",
   "name": "python3"
  },
  "language_info": {
   "codemirror_mode": {
    "name": "ipython",
    "version": 3
   },
   "file_extension": ".py",
   "mimetype": "text/x-python",
   "name": "python",
   "nbconvert_exporter": "python",
   "pygments_lexer": "ipython3",
   "version": "3.10.12"
  }
 },
 "nbformat": 4,
 "nbformat_minor": 5
}
