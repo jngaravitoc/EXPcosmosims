{
 "cells": [
  {
   "cell_type": "markdown",
   "id": "5ee189ea",
   "metadata": {},
   "source": [
    "## Analysis and visualization of BFE of the Symphony halos\n",
    "\n",
    "- [ ] analysis to Visualize wakes in 3D as a function of time \n",
    "- [ ] Visualize dipole\n",
    "- [ ] Visualize quadrupole \n",
    "- [ ] Show how to remove terms of the expansion! \n",
    "- [ ] Contributions to the density and potential from each coefficient"
   ]
  },
  {
   "cell_type": "code",
   "execution_count": 1,
   "id": "95529664",
   "metadata": {},
   "outputs": [
    {
     "name": "stdout",
     "output_type": "stream",
     "text": [
      "%pylab is deprecated, use %matplotlib inline and import the required libraries.\n",
      "Populating the interactive namespace from numpy and matplotlib\n"
     ]
    }
   ],
   "source": [
    "%pylab inline\n",
    "import pyEXP \n",
    "import EXPtools\n",
    "import k3d"
   ]
  },
  {
   "cell_type": "code",
   "execution_count": 2,
   "id": "08fc4d4b",
   "metadata": {},
   "outputs": [],
   "source": [
    "\n",
    "coefs = pyEXP.coefs.Coefs.factory('../../data/Halo170/Halo170/coeffs_Halo170_224.h5')"
   ]
  },
  {
   "cell_type": "code",
   "execution_count": 3,
   "id": "dfcf4142",
   "metadata": {},
   "outputs": [],
   "source": [
    "config = \"\"\"\n",
    "---\n",
    "    id: sphereSL\n",
    "    parameters:\n",
    "      numr: 1000\n",
    "      rmin: 0.25\n",
    "      rmax: 150\n",
    "      Lmax: 5\n",
    "      nmax: 10\n",
    "      scale: 25\n",
    "      modelname: ../../data/Halo170/Halo170/dens_table_model_Halo170_224.txt\n",
    "      cachename: ../../data/Halo170/.slgrid_sph_cache_model_Halo170_224\n",
    "...\n",
    "\"\"\""
   ]
  },
  {
   "cell_type": "code",
   "execution_count": 4,
   "id": "37a2a3c3",
   "metadata": {},
   "outputs": [
    {
     "name": "stdout",
     "output_type": "stream",
     "text": [
      "---- SLGridSph::ReadH5Cache: successfully read basis cache <../../data/Halo170/.slgrid_sph_cache_model_Halo170_224>\n",
      "SphericalSL::orthoTest: worst=0.0364622\n"
     ]
    }
   ],
   "source": [
    "basis = pyEXP.basis.Basis.factory(config)"
   ]
  },
  {
   "cell_type": "code",
   "execution_count": 5,
   "id": "8ea4c2a1",
   "metadata": {},
   "outputs": [],
   "source": [
    "halo_basis = basis.getBasis()"
   ]
  },
  {
   "cell_type": "code",
   "execution_count": 6,
   "id": "22cd96f8",
   "metadata": {},
   "outputs": [
    {
     "data": {
      "text/plain": [
       "[<matplotlib.lines.Line2D at 0x7f3c2fbcd510>]"
      ]
     },
     "execution_count": 6,
     "metadata": {},
     "output_type": "execute_result"
    },
    {
     "data": {
      "image/png": "[encoded data removed]",
      "text/plain": [
       "<Figure size 640x480 with 1 Axes>"
      ]
     },
     "metadata": {},
     "output_type": "display_data"
    }
   ],
   "source": [
    "plt.plot(halo_basis[0][0]['density'])\n",
    "plt.plot(halo_basis[1][0]['density'])\n",
    "plt.plot(halo_basis[1][1]['density'])"
   ]
  },
  {
   "cell_type": "code",
   "execution_count": 7,
   "id": "f206815d",
   "metadata": {},
   "outputs": [],
   "source": [
    "def combine_coefs(file_add, snaps=range(251,601)):\n",
    "    coefs_new = pyEXP.coefs.Coefs.factory(file_add + \"{:03d}.h5\".format(snaps[0]))\n",
    "    for nsnap in snaps:\n",
    "        coef = pyEXP.coefs.Coefs.factory(file_add + \"{:03d}.h5\".format(nsnap))\n",
    "        coefs_new.add(coef.getCoefStruct(nsnap))\n",
    "    return coefs_new"
   ]
  },
  {
   "cell_type": "code",
   "execution_count": null,
   "id": "28f139ce",
   "metadata": {},
   "outputs": [],
   "source": [
    "H170_coefs = combine_coefs('../../data/Halo170/Halo170/coeffs_Halo170_', snaps=range(215, 217))"
   ]
  },
  {
   "cell_type": "code",
   "execution_count": null,
   "id": "0b8865a6",
   "metadata": {},
   "outputs": [],
   "source": [
    "H170_coefs"
   ]
  },
  {
   "cell_type": "code",
   "execution_count": 7,
   "id": "384fe73a",
   "metadata": {},
   "outputs": [
    {
     "name": "stdout",
     "output_type": "stream",
     "text": [
      "Got coefs for name= dark halo\n"
     ]
    }
   ],
   "source": [
    "# \n",
    "\n",
    "coefs = pyEXP.coefs.Coefs.factory('../../data/Halo170/Halo170/coeffs_Halo170_')\n",
    "\n",
    "print(\"Got coefs for name=\", coefs.getName())"
   ]
  },
  {
   "cell_type": "code",
   "execution_count": null,
   "id": "11835450",
   "metadata": {},
   "outputs": [],
   "source": [
    "nmax = np.arange(0, 10, 1)"
   ]
  },
  {
   "cell_type": "code",
   "execution_count": 12,
   "id": "a8d9c786",
   "metadata": {},
   "outputs": [
    {
     "name": "stdout",
     "output_type": "stream",
     "text": [
      "0 0 0 0\n"
     ]
    }
   ],
   "source": [
    "coefs_rm = EXPtools.utils.coefficients.remove_terms(coefs, [0, ],[0],[0])"
   ]
  },
  {
   "cell_type": "code",
   "execution_count": 14,
   "id": "58ac1a45",
   "metadata": {},
   "outputs": [
    {
     "data": {
      "text/plain": [
       "array([[[ 0.00000000e+00+0.00000000e+00j],\n",
       "        [-9.77522418e-03+0.00000000e+00j],\n",
       "        [ 2.27371184e-03+0.00000000e+00j],\n",
       "        [-4.14604469e-04+0.00000000e+00j],\n",
       "        [ 9.71278892e-04+0.00000000e+00j],\n",
       "        [-3.05304605e-04+0.00000000e+00j],\n",
       "        [ 4.34105774e-04+0.00000000e+00j],\n",
       "        [-8.84920674e-05+0.00000000e+00j],\n",
       "        [ 4.03079041e-05+0.00000000e+00j],\n",
       "        [ 8.32783763e-06+0.00000000e+00j]],\n",
       "\n",
       "       [[-1.02946684e-04+0.00000000e+00j],\n",
       "        [-5.13911036e-04+0.00000000e+00j],\n",
       "        [ 4.38736697e-04+0.00000000e+00j],\n",
       "        [-2.42504522e-04+0.00000000e+00j],\n",
       "        [ 5.25138845e-05+0.00000000e+00j],\n",
       "        [-2.73412555e-05+0.00000000e+00j],\n",
       "        [ 3.01513138e-05+0.00000000e+00j],\n",
       "        [-1.43055276e-05+0.00000000e+00j],\n",
       "        [ 3.45419924e-05+0.00000000e+00j],\n",
       "        [-3.47716929e-05+0.00000000e+00j]],\n",
       "\n",
       "       [[-2.01635749e-04+3.19521586e-04j],\n",
       "        [-1.69503625e-04-4.71243464e-04j],\n",
       "        [ 2.36769400e-05+1.56325671e-04j],\n",
       "        [ 1.53154364e-04-7.88167962e-05j],\n",
       "        [-1.01789100e-04-8.63663126e-05j],\n",
       "        [-4.40967595e-06+2.35564579e-05j],\n",
       "        [ 6.35636237e-05-1.48115955e-06j],\n",
       "        [ 7.75426174e-06-4.03789154e-05j],\n",
       "        [-1.04864798e-05+2.63813730e-05j],\n",
       "        [ 1.43559202e-05-1.02515979e-05j]],\n",
       "\n",
       "       [[-7.74614650e-04+0.00000000e+00j],\n",
       "        [ 4.39896096e-05+0.00000000e+00j],\n",
       "        [-1.51012319e-04+0.00000000e+00j],\n",
       "        [-4.30585075e-05+0.00000000e+00j],\n",
       "        [-2.55649072e-05+0.00000000e+00j],\n",
       "        [-8.27095854e-05+0.00000000e+00j],\n",
       "        [ 7.05627622e-05+0.00000000e+00j],\n",
       "        [-1.18708919e-04+0.00000000e+00j],\n",
       "        [ 4.91293130e-05+0.00000000e+00j],\n",
       "        [-3.78664115e-05+0.00000000e+00j]],\n",
       "\n",
       "       [[ 1.52495233e-03+3.56575133e-03j],\n",
       "        [ 2.16708540e-04+8.72391550e-05j],\n",
       "        [ 2.45475154e-04+5.62232193e-04j],\n",
       "        [ 1.79105837e-06+1.29319584e-04j],\n",
       "        [ 2.18703099e-04+2.38055761e-04j],\n",
       "        [-6.94192648e-05+1.14010133e-04j],\n",
       "        [ 4.95738658e-05+1.68852951e-05j],\n",
       "        [-1.01635517e-05+6.95286693e-05j],\n",
       "        [ 1.04521675e-05+8.02484580e-05j],\n",
       "        [-8.58564420e-06+2.06524096e-05j]],\n",
       "\n",
       "       [[-2.48237529e-03-1.48353606e-03j],\n",
       "        [ 4.26651712e-04+7.24901713e-05j],\n",
       "        [-5.78014694e-04-1.61586053e-04j],\n",
       "        [ 8.87722061e-05-9.69989578e-05j],\n",
       "        [-2.47125981e-04-4.16733706e-05j],\n",
       "        [ 7.10857424e-05+1.44669950e-06j],\n",
       "        [-1.36303282e-04-1.25393908e-05j],\n",
       "        [ 5.50516772e-05-7.09635304e-05j],\n",
       "        [-1.27605491e-04+7.37049626e-05j],\n",
       "        [ 1.69785107e-05-4.87483442e-05j]],\n",
       "\n",
       "       [[ 6.16045962e-05+0.00000000e+00j],\n",
       "        [-7.26989546e-05+0.00000000e+00j],\n",
       "        [ 4.88006845e-05+0.00000000e+00j],\n",
       "        [ 3.74754193e-05+0.00000000e+00j],\n",
       "        [-3.24816049e-06+0.00000000e+00j],\n",
       "        [ 2.65087071e-05+0.00000000e+00j],\n",
       "        [ 1.71017725e-05+0.00000000e+00j],\n",
       "        [-2.71114550e-05+0.00000000e+00j],\n",
       "        [-6.14441584e-07+0.00000000e+00j],\n",
       "        [ 6.72559015e-06+0.00000000e+00j]],\n",
       "\n",
       "       [[ 1.15008829e-04+3.69992465e-04j],\n",
       "        [-1.35559515e-04-3.41328350e-04j],\n",
       "        [ 7.74945115e-05+2.23354642e-04j],\n",
       "        [-9.89714647e-06-1.99740762e-04j],\n",
       "        [-5.42492004e-06+1.37526087e-04j],\n",
       "        [ 1.30263492e-05-9.29776392e-05j],\n",
       "        [ 6.67464742e-06+5.35651722e-05j],\n",
       "        [-1.11735910e-05-2.61855909e-05j],\n",
       "        [ 2.47838607e-05+7.34246711e-06j],\n",
       "        [ 2.40484122e-06-9.62598294e-06j]],\n",
       "\n",
       "       [[-5.20675287e-04-5.80826618e-05j],\n",
       "        [ 3.02089845e-04+3.26789721e-04j],\n",
       "        [-4.78993244e-05-2.81532216e-04j],\n",
       "        [-3.23990422e-05+7.57910785e-05j],\n",
       "        [ 8.02203796e-05+3.48761070e-05j],\n",
       "        [-6.94521095e-05-5.57376650e-05j],\n",
       "        [ 2.52846473e-05+5.15567490e-05j],\n",
       "        [ 4.49352794e-06-6.73940898e-05j],\n",
       "        [-3.40915881e-05+4.06459814e-05j],\n",
       "        [ 4.86252659e-05-3.04866485e-05j]],\n",
       "\n",
       "       [[ 1.10337661e-04+2.52170574e-04j],\n",
       "        [-1.32699961e-04-8.99645103e-06j],\n",
       "        [ 1.12325722e-04-1.20282822e-04j],\n",
       "        [-6.70371034e-05+1.03460593e-04j],\n",
       "        [ 8.72244687e-05-7.48521649e-05j],\n",
       "        [-1.56427296e-05+3.95357559e-05j],\n",
       "        [-5.32595557e-07+2.83416815e-05j],\n",
       "        [ 2.02221819e-05-2.15334692e-05j],\n",
       "        [-2.47348331e-05+2.93224519e-06j],\n",
       "        [ 3.14376409e-05-2.54599967e-05j]],\n",
       "\n",
       "       [[-1.67984479e-04+0.00000000e+00j],\n",
       "        [-8.95342411e-05+0.00000000e+00j],\n",
       "        [-2.81867775e-05+0.00000000e+00j],\n",
       "        [-9.60668667e-05+0.00000000e+00j],\n",
       "        [ 1.09636805e-05+0.00000000e+00j],\n",
       "        [-5.56642593e-05+0.00000000e+00j],\n",
       "        [ 6.27629255e-07+0.00000000e+00j],\n",
       "        [-4.04015061e-06+0.00000000e+00j],\n",
       "        [-2.26773859e-05+0.00000000e+00j],\n",
       "        [ 2.04775169e-06+0.00000000e+00j]],\n",
       "\n",
       "       [[ 1.95735299e-04-1.45739066e-04j],\n",
       "        [-1.00945997e-05-4.00532784e-05j],\n",
       "        [-8.10855675e-05-5.17220702e-05j],\n",
       "        [ 6.35369561e-05-6.05797199e-05j],\n",
       "        [ 1.21545193e-06-3.05896251e-05j],\n",
       "        [-3.58911964e-05-1.52419369e-05j],\n",
       "        [ 2.68861784e-05+1.32400171e-05j],\n",
       "        [-2.21395876e-05+2.13612874e-07j],\n",
       "        [ 4.02125172e-09-1.99812715e-05j],\n",
       "        [-2.50604226e-05-8.82798876e-06j]],\n",
       "\n",
       "       [[-4.12781639e-04-3.20077410e-06j],\n",
       "        [ 1.44785434e-04+9.97661855e-05j],\n",
       "        [-1.23206933e-04+9.53507675e-06j],\n",
       "        [-2.04533451e-05+1.35090455e-04j],\n",
       "        [-8.37743665e-08-5.46738946e-05j],\n",
       "        [-4.80208960e-06+7.50481353e-05j],\n",
       "        [-4.66367142e-06-1.54245579e-06j],\n",
       "        [ 3.42337832e-05+2.75385879e-05j],\n",
       "        [-1.90050427e-05-7.56150063e-06j],\n",
       "        [ 6.11707586e-06+1.36506468e-05j]],\n",
       "\n",
       "       [[-6.58811393e-05-5.99227262e-04j],\n",
       "        [ 8.06459733e-05-3.94339756e-05j],\n",
       "        [-1.70029005e-05-1.45988709e-04j],\n",
       "        [ 4.00305133e-05+1.64800284e-05j],\n",
       "        [-1.66243804e-05-1.05705761e-04j],\n",
       "        [ 3.32277268e-05-2.71390556e-05j],\n",
       "        [-2.19509778e-05+4.43162078e-05j],\n",
       "        [ 1.77205957e-05-4.34458145e-05j],\n",
       "        [-1.74287082e-05+2.17087585e-05j],\n",
       "        [ 2.77537530e-06-2.64657265e-05j]],\n",
       "\n",
       "       [[ 4.90853286e-06+7.49108380e-05j],\n",
       "        [-1.77058468e-05+2.67235934e-05j],\n",
       "        [ 7.30312689e-05-5.06541767e-06j],\n",
       "        [-3.65681008e-05-4.71369607e-05j],\n",
       "        [ 7.63943723e-05+4.14173360e-05j],\n",
       "        [-1.92476606e-05-4.18266193e-05j],\n",
       "        [ 3.48865179e-05+4.00569374e-05j],\n",
       "        [-3.72611313e-05+2.15190015e-05j],\n",
       "        [ 2.55440228e-05-1.06764542e-05j],\n",
       "        [-2.65169845e-05+1.35957679e-05j]],\n",
       "\n",
       "       [[-1.22305357e-04+0.00000000e+00j],\n",
       "        [ 6.85640339e-05+0.00000000e+00j],\n",
       "        [-2.87675000e-05+0.00000000e+00j],\n",
       "        [ 4.04294331e-05+0.00000000e+00j],\n",
       "        [-2.52457003e-05+0.00000000e+00j],\n",
       "        [ 2.12844807e-05+0.00000000e+00j],\n",
       "        [ 6.55735355e-06+0.00000000e+00j],\n",
       "        [ 1.15443546e-05+0.00000000e+00j],\n",
       "        [-9.80076899e-06+0.00000000e+00j],\n",
       "        [ 1.12876560e-05+0.00000000e+00j]],\n",
       "\n",
       "       [[ 1.58475382e-04+1.84191481e-04j],\n",
       "        [-1.38748348e-04-4.50034770e-05j],\n",
       "        [ 6.30158801e-05+4.01132725e-05j],\n",
       "        [-1.86676423e-05-1.39745948e-05j],\n",
       "        [ 3.75460825e-05+1.71754556e-05j],\n",
       "        [-2.95764306e-05-4.54517850e-06j],\n",
       "        [ 4.62427398e-05-1.30577410e-07j],\n",
       "        [-2.73860650e-05-3.55034512e-06j],\n",
       "        [ 1.34155131e-05+3.71869517e-06j],\n",
       "        [ 2.10510074e-06-6.52583680e-06j]],\n",
       "\n",
       "       [[-3.66246164e-05+2.71711488e-05j],\n",
       "        [ 7.53468842e-05+2.43446379e-05j],\n",
       "        [-7.28171009e-05-7.23738953e-06j],\n",
       "        [ 7.43419464e-05-3.08782209e-05j],\n",
       "        [-2.76438758e-05+6.05925504e-05j],\n",
       "        [ 1.16189483e-05-2.69156701e-05j],\n",
       "        [-2.88960253e-05-3.69569745e-06j],\n",
       "        [ 8.95551993e-07-2.40708555e-06j],\n",
       "        [ 4.59544961e-06+2.77295138e-05j],\n",
       "        [-6.60780196e-06-4.80423006e-06j]],\n",
       "\n",
       "       [[ 1.45546595e-05+9.51693721e-05j],\n",
       "        [ 5.24881636e-05-6.15257462e-05j],\n",
       "        [-6.61830170e-05+1.51671966e-05j],\n",
       "        [ 6.12209793e-05-1.44300189e-05j],\n",
       "        [-1.15367311e-05-1.73046053e-05j],\n",
       "        [ 8.19410592e-06+1.60733677e-05j],\n",
       "        [ 1.50284348e-05-9.61138027e-06j],\n",
       "        [ 1.08144221e-05-1.66457308e-05j],\n",
       "        [-1.11422337e-05+6.39593095e-06j],\n",
       "        [-3.33702905e-06-1.11651704e-05j]],\n",
       "\n",
       "       [[ 9.83272609e-05-1.88267976e-05j],\n",
       "        [-8.45010891e-05-1.17845162e-04j],\n",
       "        [ 3.94129784e-05+5.76979611e-05j],\n",
       "        [-4.07717267e-05-1.25043914e-05j],\n",
       "        [ 1.07332386e-05-4.59118833e-05j],\n",
       "        [-2.22526425e-05+6.20182112e-05j],\n",
       "        [-7.23953259e-06-4.10991439e-05j],\n",
       "        [ 4.15370607e-06+1.35487090e-05j],\n",
       "        [-4.46512093e-06-6.47970466e-07j],\n",
       "        [ 1.56653866e-05+1.08547212e-05j]],\n",
       "\n",
       "       [[ 4.10929686e-05+3.11421961e-05j],\n",
       "        [ 2.47001305e-05+4.84267529e-05j],\n",
       "        [-1.01799194e-05-7.67645172e-06j],\n",
       "        [ 1.18220409e-05-1.42640390e-05j],\n",
       "        [-6.51928484e-05+1.20813116e-05j],\n",
       "        [ 7.03522595e-05-2.60986431e-05j],\n",
       "        [-3.33013191e-05+1.30050008e-05j],\n",
       "        [ 2.53585627e-05-9.03401492e-06j],\n",
       "        [-1.31605822e-05+1.48323725e-05j],\n",
       "        [-2.22418025e-06+1.50170308e-05j]]])"
      ]
     },
     "execution_count": 14,
     "metadata": {},
     "output_type": "execute_result"
    }
   ],
   "source": [
    "coefs_rm.getAllCoefs()"
   ]
  },
  {
   "cell_type": "code",
   "execution_count": 9,
   "id": "ab0107f1",
   "metadata": {},
   "outputs": [
    {
     "data": {
      "text/plain": [
       "array([[0., 0., 0.],\n",
       "       [0., 0., 0.],\n",
       "       [0., 0., 0.],\n",
       "       [0., 0., 0.],\n",
       "       [0., 0., 0.],\n",
       "       [0., 0., 0.],\n",
       "       [0., 0., 0.],\n",
       "       [0., 0., 0.],\n",
       "       [0., 0., 0.],\n",
       "       [0., 0., 0.]])"
      ]
     },
     "execution_count": 9,
     "metadata": {},
     "output_type": "execute_result"
    }
   ],
   "source": [
    "np.zeros((10,3))"
   ]
  },
  {
   "cell_type": "code",
   "execution_count": 188,
   "id": "8076232b",
   "metadata": {},
   "outputs": [
    {
     "ename": "RuntimeError",
     "evalue": "Basis::createCoefficients: basis <SphericalSL> not recognized\n",
     "output_type": "error",
     "traceback": [
      "\u001b[0;31m---------------------------------------------------------------------------\u001b[0m",
      "\u001b[0;31mRuntimeError\u001b[0m                              Traceback (most recent call last)",
      "Cell \u001b[0;32mIn[188], line 1\u001b[0m\n\u001b[0;32m----> 1\u001b[0m coeft \u001b[38;5;241m=\u001b[39m \u001b[43mbasis\u001b[49m\u001b[38;5;241;43m.\u001b[39;49m\u001b[43mcreateFromArray\u001b[49m\u001b[43m(\u001b[49m\u001b[43mnp\u001b[49m\u001b[38;5;241;43m.\u001b[39;49m\u001b[43mones\u001b[49m\u001b[43m(\u001b[49m\u001b[38;5;241;43m10\u001b[39;49m\u001b[43m)\u001b[49m\u001b[43m,\u001b[49m\u001b[43m \u001b[49m\u001b[43mnp\u001b[49m\u001b[38;5;241;43m.\u001b[39;49m\u001b[43mzeros\u001b[49m\u001b[43m(\u001b[49m\u001b[43m(\u001b[49m\u001b[38;5;241;43m10\u001b[39;49m\u001b[43m,\u001b[49m\u001b[38;5;241;43m3\u001b[39;49m\u001b[43m)\u001b[49m\u001b[43m)\u001b[49m\u001b[43m,\u001b[49m\u001b[43m \u001b[49m\u001b[43mtime\u001b[49m\u001b[38;5;241;43m=\u001b[39;49m\u001b[38;5;241;43m3.0\u001b[39;49m\u001b[43m)\u001b[49m\n",
      "\u001b[0;31mRuntimeError\u001b[0m: Basis::createCoefficients: basis <SphericalSL> not recognized\n"
     ]
    }
   ],
   "source": [
    "coeft = basis.createFromArray(np.ones(10), np.zeros((10,3)), time=3.0)"
   ]
  },
  {
   "cell_type": "code",
   "execution_count": 172,
   "id": "943d9279",
   "metadata": {},
   "outputs": [],
   "source": [
    "pyEXP.coefs.Coefs.makecoefs"
   ]
  },
  {
   "cell_type": "code",
   "execution_count": 177,
   "id": "c157309b",
   "metadata": {},
   "outputs": [
    {
     "ename": "TypeError",
     "evalue": "makecoefs(): incompatible function arguments. The following argument types are supported:\n    1. (coef: pyEXP.coefs.CoefStruct, name: str = '') -> pyEXP.coefs.Coefs\n\nInvoked with: ",
     "output_type": "error",
     "traceback": [
      "\u001b[0;31m---------------------------------------------------------------------------\u001b[0m",
      "\u001b[0;31mTypeError\u001b[0m                                 Traceback (most recent call last)",
      "Cell \u001b[0;32mIn[177], line 1\u001b[0m\n\u001b[0;32m----> 1\u001b[0m all_coefs \u001b[38;5;241m=\u001b[39m \u001b[43mpyEXP\u001b[49m\u001b[38;5;241;43m.\u001b[39;49m\u001b[43mcoefs\u001b[49m\u001b[38;5;241;43m.\u001b[39;49m\u001b[43mCoefs\u001b[49m\u001b[38;5;241;43m.\u001b[39;49m\u001b[43mmakecoefs\u001b[49m\u001b[43m(\u001b[49m\u001b[43m)\u001b[49m\n",
      "\u001b[0;31mTypeError\u001b[0m: makecoefs(): incompatible function arguments. The following argument types are supported:\n    1. (coef: pyEXP.coefs.CoefStruct, name: str = '') -> pyEXP.coefs.Coefs\n\nInvoked with: "
     ]
    }
   ],
   "source": [
    "all_coefs = pyEXP.coefs.Coefs"
   ]
  },
  {
   "cell_type": "code",
   "execution_count": 179,
   "id": "a91765bc",
   "metadata": {},
   "outputs": [],
   "source": [
    "coefs2 = coefs.deepcopy()"
   ]
  },
  {
   "cell_type": "code",
   "execution_count": 183,
   "id": "a3d4184e",
   "metadata": {},
   "outputs": [
    {
     "ename": "TypeError",
     "evalue": "getCoefStruct(): incompatible function arguments. The following argument types are supported:\n    1. (self: pyEXP.coefs.Coefs, time: float) -> pyEXP.coefs.CoefStruct\n\nInvoked with: <pyEXP.coefs.SphCoefs object at 0x7f3abb2a3770>",
     "output_type": "error",
     "traceback": [
      "\u001b[0;31m---------------------------------------------------------------------------\u001b[0m",
      "\u001b[0;31mTypeError\u001b[0m                                 Traceback (most recent call last)",
      "Cell \u001b[0;32mIn[183], line 1\u001b[0m\n\u001b[0;32m----> 1\u001b[0m coefs2\u001b[38;5;241m.\u001b[39madd(\u001b[43mcoefs\u001b[49m\u001b[38;5;241;43m.\u001b[39;49m\u001b[43mgetCoefStruct\u001b[49m\u001b[43m(\u001b[49m\u001b[43m)\u001b[49m)\n",
      "\u001b[0;31mTypeError\u001b[0m: getCoefStruct(): incompatible function arguments. The following argument types are supported:\n    1. (self: pyEXP.coefs.Coefs, time: float) -> pyEXP.coefs.CoefStruct\n\nInvoked with: <pyEXP.coefs.SphCoefs object at 0x7f3abb2a3770>"
     ]
    }
   ],
   "source": [
    "coefs2.add(coefs.getCoefStruct())"
   ]
  },
  {
   "cell_type": "code",
   "execution_count": 164,
   "id": "de31d061",
   "metadata": {},
   "outputs": [],
   "source": [
    "dens0_XY, dens_XY, grid_XY  = EXPtools.visuals.slice_fields(basis, coefs, time=0.0, \n",
    "                                                                    projection='XY')\n",
    "dens0_YZ, dens_YZ, grid_YZ  = EXPtools.visuals.slice_fields(basis, coefs, time=0.0, projection='YZ')\n",
    "dens0_XZ, dens_XZ, grid_XZ  = EXPtools.visuals.slice_fields(basis, coefs, time=0.0, projection='XZ')\n"
   ]
  },
  {
   "cell_type": "code",
   "execution_count": 165,
   "id": "89678add",
   "metadata": {},
   "outputs": [
    {
     "data": {
      "text/plain": [
       "<matplotlib.contour.QuadContourSet at 0x7f3abb309ba0>"
      ]
     },
     "execution_count": 165,
     "metadata": {},
     "output_type": "execute_result"
    },
    {
     "data": {
      "image/png": "[encoded data removed]",
      "text/plain": [
       "<Figure size 1500x500 with 3 Axes>"
      ]
     },
     "metadata": {},
     "output_type": "display_data"
    }
   ],
   "source": [
    "fig, ax = plt.subplots(1, 3, figsize=(15,5))\n",
    "ax[0].contourf(grid_XY[0], grid_XY[1], (dens_XY/dens0_XY), cmap='coolwarm', levels=20)\n",
    "ax[1].contourf(grid_YZ[0], grid_YZ[1], (dens_YZ/dens0_YZ), cmap='coolwarm', levels=20)\n",
    "ax[2].contourf(grid_XZ[0], grid_XZ[1], (dens_XZ/dens0_XZ), cmap='coolwarm', levels=20)"
   ]
  },
  {
   "cell_type": "code",
   "execution_count": 166,
   "id": "32e071c7",
   "metadata": {},
   "outputs": [],
   "source": [
    "dens3D, dens03D, grid3D = EXPtools.visuals.slice_3d_fields(basis, coefs, time=0, prop='dens', npoints=40)"
   ]
  },
  {
   "cell_type": "code",
   "execution_count": 167,
   "id": "7d74d57d",
   "metadata": {},
   "outputs": [],
   "source": [
    "rend3D = EXPtools.visuals.field3Drender(np.array([(dens3D/dens03D) - 1]), \n",
    "                                        contour_ranges=[[-0.9, 0.9],[-0.2, 0.2]], \n",
    "                                        size=[200, 200, 200], contour_alphas=[2, 1])"
   ]
  },
  {
   "cell_type": "code",
   "execution_count": 168,
   "id": "203cf2dc",
   "metadata": {},
   "outputs": [
    {
     "data": {
      "application/vnd.jupyter.widget-view+json": {
       "model_id": "d6c86dc9d1714333903047cfe4e31444",
       "version_major": 2,
       "version_minor": 0
      },
      "text/plain": [
       "Plot(antialias=3, axes=['x', 'y', 'z'], axes_helper=1.0, axes_helper_colors=[16711680, 65280, 255], background…"
      ]
     },
     "execution_count": 168,
     "metadata": {},
     "output_type": "execute_result"
    }
   ],
   "source": [
    "rend3D"
   ]
  },
  {
   "cell_type": "code",
   "execution_count": 40,
   "id": "8599845c",
   "metadata": {},
   "outputs": [],
   "source": [
    "times = coefs.Times()\n",
    "data  = coefs.getAllCoefs()\n"
   ]
  },
  {
   "cell_type": "code",
   "execution_count": 41,
   "id": "8031537e",
   "metadata": {},
   "outputs": [
    {
     "data": {
      "text/plain": [
       "(21, 10, 1)"
      ]
     },
     "execution_count": 41,
     "metadata": {},
     "output_type": "execute_result"
    }
   ],
   "source": [
    "np.shape(data)"
   ]
  },
  {
   "cell_type": "code",
   "execution_count": 42,
   "id": "e5546a84",
   "metadata": {},
   "outputs": [
    {
     "data": {
      "text/plain": [
       "<matplotlib.image.AxesImage at 0x7fb0d4b95d50>"
      ]
     },
     "execution_count": 42,
     "metadata": {},
     "output_type": "execute_result"
    },
    {
     "data": {
      "image/png": "[encoded data removed]",
      "text/plain": [
       "<Figure size 640x480 with 1 Axes>"
      ]
     },
     "metadata": {},
     "output_type": "display_data"
    }
   ],
   "source": [
    "imshow(data[:,:,0].real)"
   ]
  },
  {
   "cell_type": "code",
   "execution_count": null,
   "id": "97ffd8b9",
   "metadata": {},
   "outputs": [],
   "source": []
  }
 ],
 "metadata": {
  "kernelspec": {
   "display_name": "pyexp",
   "language": "python",
   "name": "pyexp"
  },
  "language_info": {
   "codemirror_mode": {
    "name": "ipython",
    "version": 3
   },
   "file_extension": ".py",
   "mimetype": "text/x-python",
   "name": "python",
   "nbconvert_exporter": "python",
   "pygments_lexer": "ipython3",
   "version": "3.10.12"
  }
 },
 "nbformat": 4,
 "nbformat_minor": 5
}
